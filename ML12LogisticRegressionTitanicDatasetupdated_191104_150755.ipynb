{
  "nbformat": 4,
  "nbformat_minor": 0,
  "metadata": {
    "kernelspec": {
      "display_name": "Python 3",
      "language": "python",
      "name": "python3"
    },
    "language_info": {
      "codemirror_mode": {
        "name": "ipython",
        "version": 3
      },
      "file_extension": ".py",
      "mimetype": "text/x-python",
      "name": "python",
      "nbconvert_exporter": "python",
      "pygments_lexer": "ipython3",
      "version": "3.7.4"
    },
    "colab": {
      "name": "ML12LogisticRegressionTitanicDatasetupdated-191104-150755.ipynb",
      "provenance": [],
      "include_colab_link": true
    }
  },
  "cells": [
    {
      "cell_type": "markdown",
      "metadata": {
        "id": "view-in-github",
        "colab_type": "text"
      },
      "source": [
        "<a href=\"https://colab.research.google.com/github/amity1415/Insaid/blob/master/ML12LogisticRegressionTitanicDatasetupdated_191104_150755.ipynb\" target=\"_parent\"><img src=\"https://colab.research.google.com/assets/colab-badge.svg\" alt=\"Open In Colab\"/></a>"
      ]
    },
    {
      "cell_type": "markdown",
      "metadata": {
        "id": "w2PqcWMrjwN3",
        "colab_type": "text"
      },
      "source": [
        "<img src=\"https://github.com/insaid2018/Term-1/blob/master/Images/INSAID_Full%20Logo.png?raw=true\" width=\"240\" height=\"360\" />\n",
        "\n",
        "# Logistic Regression on titanic dataset"
      ]
    },
    {
      "cell_type": "markdown",
      "metadata": {
        "id": "mHoKcxZhjwN-",
        "colab_type": "text"
      },
      "source": [
        "## Table of Contents\n",
        "\n",
        "1. [Problem Statement](#section1)<br>\n",
        "2. [Data Loading and Description](#section2)\n",
        "3. [Preprocessing](#section3)\n",
        "4. [Logistic Regression](#section4)<br>\n",
        "    - 4.1 [Introduction of Logistic Regression](#section401)<br>\n",
        "    - 4.2 [Mathematics behind Logistic Regression](#section402)<br>\n",
        "    - 4.3 [Applications of Logistic Regression](#section402)<br>\n",
        "    - 4.4 [Preparing X and y using pandas](#section403)<br>\n",
        "    - 4.5 [Splitting X and y into training and test datasets.](#section404)<br>\n",
        "    - 4.6 [Logistic regression in scikit-learn](#section406)<br>\n",
        "    - 4.7 [Using the Model for Prediction](#section407)<br>\n",
        "5. [Model evaluation](#section5)<br>\n",
        "    - 5.1 [Model Evaluation using accuracy classification score](#section501)<br>\n",
        "    - 5.2 [Model Evaluation using confusion matrix](#section502)<br> "
      ]
    },
    {
      "cell_type": "markdown",
      "metadata": {
        "id": "nG028tBWjwOC",
        "colab_type": "text"
      },
      "source": [
        "<a id=section1></a>"
      ]
    },
    {
      "cell_type": "markdown",
      "metadata": {
        "id": "yLpTjvuIjwOG",
        "colab_type": "text"
      },
      "source": [
        "### 1. Problem Statement"
      ]
    },
    {
      "cell_type": "markdown",
      "metadata": {
        "id": "zhjIC4CWjwOK",
        "colab_type": "text"
      },
      "source": [
        "The goal is to __predict survival__ of passengers travelling in RMS __Titanic__ using __Logistic regression__."
      ]
    },
    {
      "cell_type": "markdown",
      "metadata": {
        "id": "V8rPSaGvjwOP",
        "colab_type": "text"
      },
      "source": [
        "<a id=section2></a>"
      ]
    },
    {
      "cell_type": "markdown",
      "metadata": {
        "id": "93TKDY1wjwOQ",
        "colab_type": "text"
      },
      "source": [
        "### 2. Data Loading and Description\n",
        "![image.png](attachment:image.png)"
      ]
    },
    {
      "cell_type": "markdown",
      "metadata": {
        "id": "fp-IydiVjwOW",
        "colab_type": "text"
      },
      "source": [
        "<a id=section201></a>"
      ]
    },
    {
      "cell_type": "markdown",
      "metadata": {
        "_cell_guid": "e4a1cf77-b695-4ca0-9653-6c41ce2393d8",
        "_uuid": "ca91678a9dc8cc103a7fbf799a5d903a011334ef",
        "id": "ZvFGSIA9jwOZ",
        "colab_type": "text"
      },
      "source": [
        "- The dataset consists of the information about people boarding the famous RMS Titanic. Various variables present in the dataset includes data of age, sex, fare, ticket etc. \n",
        "- The dataset comprises of __891 observations of 12 columns__. Below is a table showing names of all the columns and their description."
      ]
    },
    {
      "cell_type": "markdown",
      "metadata": {
        "id": "WLBE57XqjwOc",
        "colab_type": "text"
      },
      "source": [
        "| Column Name   | Description                                               |\n",
        "| ------------- |:-------------                                            :| \n",
        "| PassengerId   | Passenger Identity                                        | \n",
        "| Survived      | Whether passenger survived or not                         |  \n",
        "| Pclass        | Class of ticket                                           | \n",
        "| Name          | Name of passenger                                         |   \n",
        "| Sex           | Sex of passenger                                          |\n",
        "| Age           | Age of passenger                                          |\n",
        "| SibSp         | Number of sibling and/or spouse travelling with passenger |\n",
        "| Parch         | Number of parent and/or children travelling with passenger|\n",
        "| Ticket        | Ticket number                                             |\n",
        "| Fare          | Price of ticket                                           |\n",
        "| Cabin         | Cabin number                                              |"
      ]
    },
    {
      "cell_type": "markdown",
      "metadata": {
        "_cell_guid": "998b2a03-c60e-4fd6-9f69-784de6e6c9b8",
        "_uuid": "d3086cb02907affe5a674b54e4baaedd632482c7",
        "id": "Z6ru9F2MjwOe",
        "colab_type": "text"
      },
      "source": [
        "#### Importing packages                                          "
      ]
    },
    {
      "cell_type": "code",
      "metadata": {
        "id": "EMozbUtJjwOl",
        "colab_type": "code",
        "colab": {
          "base_uri": "https://localhost:8080/",
          "height": 259
        },
        "outputId": "b0aeaddd-7c34-4805-c29e-cfa0e9ff1efd"
      },
      "source": [
        "import sys\n",
        "!{sys.executable} -m pip install pandas_profiling"
      ],
      "execution_count": 1,
      "outputs": [
        {
          "output_type": "stream",
          "text": [
            "Requirement already satisfied: pandas_profiling in /usr/local/lib/python3.6/dist-packages (1.4.1)\n",
            "Requirement already satisfied: pandas>=0.19 in /usr/local/lib/python3.6/dist-packages (from pandas_profiling) (0.25.3)\n",
            "Requirement already satisfied: matplotlib>=1.4 in /usr/local/lib/python3.6/dist-packages (from pandas_profiling) (3.1.1)\n",
            "Requirement already satisfied: jinja2>=2.8 in /usr/local/lib/python3.6/dist-packages (from pandas_profiling) (2.10.3)\n",
            "Requirement already satisfied: six>=1.9 in /usr/local/lib/python3.6/dist-packages (from pandas_profiling) (1.12.0)\n",
            "Requirement already satisfied: pytz>=2017.2 in /usr/local/lib/python3.6/dist-packages (from pandas>=0.19->pandas_profiling) (2018.9)\n",
            "Requirement already satisfied: numpy>=1.13.3 in /usr/local/lib/python3.6/dist-packages (from pandas>=0.19->pandas_profiling) (1.17.3)\n",
            "Requirement already satisfied: python-dateutil>=2.6.1 in /usr/local/lib/python3.6/dist-packages (from pandas>=0.19->pandas_profiling) (2.6.1)\n",
            "Requirement already satisfied: cycler>=0.10 in /usr/local/lib/python3.6/dist-packages (from matplotlib>=1.4->pandas_profiling) (0.10.0)\n",
            "Requirement already satisfied: kiwisolver>=1.0.1 in /usr/local/lib/python3.6/dist-packages (from matplotlib>=1.4->pandas_profiling) (1.1.0)\n",
            "Requirement already satisfied: pyparsing!=2.0.4,!=2.1.2,!=2.1.6,>=2.0.1 in /usr/local/lib/python3.6/dist-packages (from matplotlib>=1.4->pandas_profiling) (2.4.2)\n",
            "Requirement already satisfied: MarkupSafe>=0.23 in /usr/local/lib/python3.6/dist-packages (from jinja2>=2.8->pandas_profiling) (1.1.1)\n",
            "Requirement already satisfied: setuptools in /usr/local/lib/python3.6/dist-packages (from kiwisolver>=1.0.1->matplotlib>=1.4->pandas_profiling) (41.4.0)\n"
          ],
          "name": "stdout"
        }
      ]
    },
    {
      "cell_type": "code",
      "metadata": {
        "_cell_guid": "872b97b2-56fe-4644-a11f-afb00f422169",
        "_uuid": "efb595c75201cdb2a53388dc152a8e526e1b921a",
        "id": "Vq5m_q0EjwOv",
        "colab_type": "code",
        "colab": {}
      },
      "source": [
        "import numpy as np                                                 # Implemennts milti-dimensional array and matrices\n",
        "import pandas as pd                                                # For data manipulation and analysis\n",
        "import pandas_profiling\n",
        "import matplotlib.pyplot as plt                                    # Plotting library for Python programming language and it's numerical mathematics extension NumPy\n",
        "import seaborn as sns                                              # Provides a high level interface for drawing attractive and informative statistical graphics\n",
        "%matplotlib inline\n",
        "\n",
        "\n",
        "from subprocess import check_output"
      ],
      "execution_count": 0,
      "outputs": []
    },
    {
      "cell_type": "markdown",
      "metadata": {
        "id": "CUgv4FhojwO1",
        "colab_type": "text"
      },
      "source": [
        "#### Importing the Dataset"
      ]
    },
    {
      "cell_type": "code",
      "metadata": {
        "_cell_guid": "080fb327-390d-4124-b287-a561d050fe7e",
        "_uuid": "0333d5086a63e3870708e7ba7a540d036c53544e",
        "id": "Uo_uM8I1jwO3",
        "colab_type": "code",
        "colab": {}
      },
      "source": [
        "titanic_data = pd.read_csv(\"https://raw.githubusercontent.com/insaid2018/Term-1/master/Data/Casestudy/titanic_train.csv\")     # Importing training dataset using pd.read_csv"
      ],
      "execution_count": 0,
      "outputs": []
    },
    {
      "cell_type": "code",
      "metadata": {
        "id": "F7IuDPXejwO-",
        "colab_type": "code",
        "colab": {
          "base_uri": "https://localhost:8080/",
          "height": 333
        },
        "outputId": "7e53832a-05ad-4d7e-ab6c-7ca405cb197c"
      },
      "source": [
        "titanic_data.info()"
      ],
      "execution_count": 6,
      "outputs": [
        {
          "output_type": "stream",
          "text": [
            "<class 'pandas.core.frame.DataFrame'>\n",
            "RangeIndex: 891 entries, 0 to 890\n",
            "Data columns (total 12 columns):\n",
            "PassengerId    891 non-null int64\n",
            "Survived       891 non-null int64\n",
            "Pclass         891 non-null int64\n",
            "Name           891 non-null object\n",
            "Sex            891 non-null object\n",
            "Age            714 non-null float64\n",
            "SibSp          891 non-null int64\n",
            "Parch          891 non-null int64\n",
            "Ticket         891 non-null object\n",
            "Fare           891 non-null float64\n",
            "Cabin          204 non-null object\n",
            "Embarked       889 non-null object\n",
            "dtypes: float64(2), int64(5), object(5)\n",
            "memory usage: 83.7+ KB\n"
          ],
          "name": "stdout"
        }
      ]
    },
    {
      "cell_type": "code",
      "metadata": {
        "id": "6oUIZ1v7jwPE",
        "colab_type": "code",
        "colab": {
          "base_uri": "https://localhost:8080/",
          "height": 206
        },
        "outputId": "9d5793b5-51e7-4a67-c95f-a3ec9cad21bc"
      },
      "source": [
        "891 - titanic_data.count()\n",
        "\n",
        "#age - fill in the mean/median? - any central tendency\n",
        "#Embarkment - mode (categotical)\n",
        "#cabin  - remove it."
      ],
      "execution_count": 20,
      "outputs": [
        {
          "output_type": "execute_result",
          "data": {
            "text/html": [
              "<div>\n",
              "<style scoped>\n",
              "    .dataframe tbody tr th:only-of-type {\n",
              "        vertical-align: middle;\n",
              "    }\n",
              "\n",
              "    .dataframe tbody tr th {\n",
              "        vertical-align: top;\n",
              "    }\n",
              "\n",
              "    .dataframe thead th {\n",
              "        text-align: right;\n",
              "    }\n",
              "</style>\n",
              "<table border=\"1\" class=\"dataframe\">\n",
              "  <thead>\n",
              "    <tr style=\"text-align: right;\">\n",
              "      <th></th>\n",
              "      <th>PassengerId</th>\n",
              "      <th>Survived</th>\n",
              "      <th>Pclass</th>\n",
              "      <th>Name</th>\n",
              "      <th>Sex</th>\n",
              "      <th>Age</th>\n",
              "      <th>SibSp</th>\n",
              "      <th>Parch</th>\n",
              "      <th>Ticket</th>\n",
              "      <th>Fare</th>\n",
              "      <th>Cabin</th>\n",
              "      <th>Embarked</th>\n",
              "    </tr>\n",
              "  </thead>\n",
              "  <tbody>\n",
              "    <tr>\n",
              "      <th>0</th>\n",
              "      <td>1</td>\n",
              "      <td>0</td>\n",
              "      <td>3</td>\n",
              "      <td>Braund, Mr. Owen Harris</td>\n",
              "      <td>male</td>\n",
              "      <td>22.0</td>\n",
              "      <td>1</td>\n",
              "      <td>0</td>\n",
              "      <td>A/5 21171</td>\n",
              "      <td>7.2500</td>\n",
              "      <td>NaN</td>\n",
              "      <td>S</td>\n",
              "    </tr>\n",
              "    <tr>\n",
              "      <th>1</th>\n",
              "      <td>2</td>\n",
              "      <td>1</td>\n",
              "      <td>1</td>\n",
              "      <td>Cumings, Mrs. John Bradley (Florence Briggs Th...</td>\n",
              "      <td>female</td>\n",
              "      <td>38.0</td>\n",
              "      <td>1</td>\n",
              "      <td>0</td>\n",
              "      <td>PC 17599</td>\n",
              "      <td>71.2833</td>\n",
              "      <td>C85</td>\n",
              "      <td>C</td>\n",
              "    </tr>\n",
              "    <tr>\n",
              "      <th>2</th>\n",
              "      <td>3</td>\n",
              "      <td>1</td>\n",
              "      <td>3</td>\n",
              "      <td>Heikkinen, Miss. Laina</td>\n",
              "      <td>female</td>\n",
              "      <td>26.0</td>\n",
              "      <td>0</td>\n",
              "      <td>0</td>\n",
              "      <td>STON/O2. 3101282</td>\n",
              "      <td>7.9250</td>\n",
              "      <td>NaN</td>\n",
              "      <td>S</td>\n",
              "    </tr>\n",
              "    <tr>\n",
              "      <th>3</th>\n",
              "      <td>4</td>\n",
              "      <td>1</td>\n",
              "      <td>1</td>\n",
              "      <td>Futrelle, Mrs. Jacques Heath (Lily May Peel)</td>\n",
              "      <td>female</td>\n",
              "      <td>35.0</td>\n",
              "      <td>1</td>\n",
              "      <td>0</td>\n",
              "      <td>113803</td>\n",
              "      <td>53.1000</td>\n",
              "      <td>C123</td>\n",
              "      <td>S</td>\n",
              "    </tr>\n",
              "    <tr>\n",
              "      <th>4</th>\n",
              "      <td>5</td>\n",
              "      <td>0</td>\n",
              "      <td>3</td>\n",
              "      <td>Allen, Mr. William Henry</td>\n",
              "      <td>male</td>\n",
              "      <td>35.0</td>\n",
              "      <td>0</td>\n",
              "      <td>0</td>\n",
              "      <td>373450</td>\n",
              "      <td>8.0500</td>\n",
              "      <td>NaN</td>\n",
              "      <td>S</td>\n",
              "    </tr>\n",
              "  </tbody>\n",
              "</table>\n",
              "</div>"
            ],
            "text/plain": [
              "   PassengerId  Survived  Pclass  ...     Fare Cabin  Embarked\n",
              "0            1         0       3  ...   7.2500   NaN         S\n",
              "1            2         1       1  ...  71.2833   C85         C\n",
              "2            3         1       3  ...   7.9250   NaN         S\n",
              "3            4         1       1  ...  53.1000  C123         S\n",
              "4            5         0       3  ...   8.0500   NaN         S\n",
              "\n",
              "[5 rows x 12 columns]"
            ]
          },
          "metadata": {
            "tags": []
          },
          "execution_count": 20
        }
      ]
    },
    {
      "cell_type": "markdown",
      "metadata": {
        "id": "OOiT0mVVjwPR",
        "colab_type": "text"
      },
      "source": [
        "<a id=section3></a>"
      ]
    },
    {
      "cell_type": "markdown",
      "metadata": {
        "_cell_guid": "6c7d2500-95b1-4057-98f7-39100e8a6d7f",
        "_uuid": "13fd8422db7a1ceae9ebb002df452e8293a9ab0c",
        "id": "TBvgsAw1jwPS",
        "colab_type": "text"
      },
      "source": [
        "## 3. Preprocessing the data"
      ]
    },
    {
      "cell_type": "markdown",
      "metadata": {
        "id": "vXhTJmb9jwPV",
        "colab_type": "text"
      },
      "source": [
        "- Dealing with missing values<br/>\n",
        "    - Dropping/Replacing missing entries of __Embarked.__\n",
        "    - Replacing missing values of __Age__ and __Fare__ with median values.\n",
        "    - Dropping the column __'Cabin'__ as it has too many _null_ values."
      ]
    },
    {
      "cell_type": "code",
      "metadata": {
        "id": "I2_msk0wjwPY",
        "colab_type": "code",
        "colab": {}
      },
      "source": [
        "titanic_data.Embarked = titanic_data.Embarked.fillna(titanic_data['Embarked'].mode()[0])"
      ],
      "execution_count": 0,
      "outputs": []
    },
    {
      "cell_type": "markdown",
      "metadata": {
        "id": "6g9LLAXCmBqO",
        "colab_type": "text"
      },
      "source": [
        ""
      ]
    },
    {
      "cell_type": "code",
      "metadata": {
        "id": "Adr0PQ2ejwPf",
        "colab_type": "code",
        "colab": {}
      },
      "source": [
        "median_age = titanic_data.Age.median()\n",
        "median_fare = titanic_data.Fare.median()\n",
        "titanic_data.Age.fillna(median_age, inplace = True)\n",
        "titanic_data.Fare.fillna(median_fare, inplace = True)"
      ],
      "execution_count": 0,
      "outputs": []
    },
    {
      "cell_type": "code",
      "metadata": {
        "id": "CU77scRLjwPm",
        "colab_type": "code",
        "colab": {
          "base_uri": "https://localhost:8080/",
          "height": 329
        },
        "outputId": "a5831aef-2501-4bba-8282-cad743819cf9"
      },
      "source": [
        "titanic_data.drop('Cabin', axis = 1,inplace = True)"
      ],
      "execution_count": 25,
      "outputs": [
        {
          "output_type": "error",
          "ename": "KeyError",
          "evalue": "ignored",
          "traceback": [
            "\u001b[0;31m---------------------------------------------------------------------------\u001b[0m",
            "\u001b[0;31mKeyError\u001b[0m                                  Traceback (most recent call last)",
            "\u001b[0;32m<ipython-input-25-6b448eecd039>\u001b[0m in \u001b[0;36m<module>\u001b[0;34m()\u001b[0m\n\u001b[0;32m----> 1\u001b[0;31m \u001b[0mtitanic_data\u001b[0m\u001b[0;34m.\u001b[0m\u001b[0mdrop\u001b[0m\u001b[0;34m(\u001b[0m\u001b[0;34m'Cabin'\u001b[0m\u001b[0;34m,\u001b[0m \u001b[0maxis\u001b[0m \u001b[0;34m=\u001b[0m \u001b[0;36m1\u001b[0m\u001b[0;34m,\u001b[0m\u001b[0minplace\u001b[0m \u001b[0;34m=\u001b[0m \u001b[0;32mTrue\u001b[0m\u001b[0;34m)\u001b[0m\u001b[0;34m\u001b[0m\u001b[0;34m\u001b[0m\u001b[0m\n\u001b[0m",
            "\u001b[0;32m/usr/local/lib/python3.6/dist-packages/pandas/core/frame.py\u001b[0m in \u001b[0;36mdrop\u001b[0;34m(self, labels, axis, index, columns, level, inplace, errors)\u001b[0m\n\u001b[1;32m   4115\u001b[0m             \u001b[0mlevel\u001b[0m\u001b[0;34m=\u001b[0m\u001b[0mlevel\u001b[0m\u001b[0;34m,\u001b[0m\u001b[0;34m\u001b[0m\u001b[0;34m\u001b[0m\u001b[0m\n\u001b[1;32m   4116\u001b[0m             \u001b[0minplace\u001b[0m\u001b[0;34m=\u001b[0m\u001b[0minplace\u001b[0m\u001b[0;34m,\u001b[0m\u001b[0;34m\u001b[0m\u001b[0;34m\u001b[0m\u001b[0m\n\u001b[0;32m-> 4117\u001b[0;31m             \u001b[0merrors\u001b[0m\u001b[0;34m=\u001b[0m\u001b[0merrors\u001b[0m\u001b[0;34m,\u001b[0m\u001b[0;34m\u001b[0m\u001b[0;34m\u001b[0m\u001b[0m\n\u001b[0m\u001b[1;32m   4118\u001b[0m         )\n\u001b[1;32m   4119\u001b[0m \u001b[0;34m\u001b[0m\u001b[0m\n",
            "\u001b[0;32m/usr/local/lib/python3.6/dist-packages/pandas/core/generic.py\u001b[0m in \u001b[0;36mdrop\u001b[0;34m(self, labels, axis, index, columns, level, inplace, errors)\u001b[0m\n\u001b[1;32m   3912\u001b[0m         \u001b[0;32mfor\u001b[0m \u001b[0maxis\u001b[0m\u001b[0;34m,\u001b[0m \u001b[0mlabels\u001b[0m \u001b[0;32min\u001b[0m \u001b[0maxes\u001b[0m\u001b[0;34m.\u001b[0m\u001b[0mitems\u001b[0m\u001b[0;34m(\u001b[0m\u001b[0;34m)\u001b[0m\u001b[0;34m:\u001b[0m\u001b[0;34m\u001b[0m\u001b[0;34m\u001b[0m\u001b[0m\n\u001b[1;32m   3913\u001b[0m             \u001b[0;32mif\u001b[0m \u001b[0mlabels\u001b[0m \u001b[0;32mis\u001b[0m \u001b[0;32mnot\u001b[0m \u001b[0;32mNone\u001b[0m\u001b[0;34m:\u001b[0m\u001b[0;34m\u001b[0m\u001b[0;34m\u001b[0m\u001b[0m\n\u001b[0;32m-> 3914\u001b[0;31m                 \u001b[0mobj\u001b[0m \u001b[0;34m=\u001b[0m \u001b[0mobj\u001b[0m\u001b[0;34m.\u001b[0m\u001b[0m_drop_axis\u001b[0m\u001b[0;34m(\u001b[0m\u001b[0mlabels\u001b[0m\u001b[0;34m,\u001b[0m \u001b[0maxis\u001b[0m\u001b[0;34m,\u001b[0m \u001b[0mlevel\u001b[0m\u001b[0;34m=\u001b[0m\u001b[0mlevel\u001b[0m\u001b[0;34m,\u001b[0m \u001b[0merrors\u001b[0m\u001b[0;34m=\u001b[0m\u001b[0merrors\u001b[0m\u001b[0;34m)\u001b[0m\u001b[0;34m\u001b[0m\u001b[0;34m\u001b[0m\u001b[0m\n\u001b[0m\u001b[1;32m   3915\u001b[0m \u001b[0;34m\u001b[0m\u001b[0m\n\u001b[1;32m   3916\u001b[0m         \u001b[0;32mif\u001b[0m \u001b[0minplace\u001b[0m\u001b[0;34m:\u001b[0m\u001b[0;34m\u001b[0m\u001b[0;34m\u001b[0m\u001b[0m\n",
            "\u001b[0;32m/usr/local/lib/python3.6/dist-packages/pandas/core/generic.py\u001b[0m in \u001b[0;36m_drop_axis\u001b[0;34m(self, labels, axis, level, errors)\u001b[0m\n\u001b[1;32m   3944\u001b[0m                 \u001b[0mnew_axis\u001b[0m \u001b[0;34m=\u001b[0m \u001b[0maxis\u001b[0m\u001b[0;34m.\u001b[0m\u001b[0mdrop\u001b[0m\u001b[0;34m(\u001b[0m\u001b[0mlabels\u001b[0m\u001b[0;34m,\u001b[0m \u001b[0mlevel\u001b[0m\u001b[0;34m=\u001b[0m\u001b[0mlevel\u001b[0m\u001b[0;34m,\u001b[0m \u001b[0merrors\u001b[0m\u001b[0;34m=\u001b[0m\u001b[0merrors\u001b[0m\u001b[0;34m)\u001b[0m\u001b[0;34m\u001b[0m\u001b[0;34m\u001b[0m\u001b[0m\n\u001b[1;32m   3945\u001b[0m             \u001b[0;32melse\u001b[0m\u001b[0;34m:\u001b[0m\u001b[0;34m\u001b[0m\u001b[0;34m\u001b[0m\u001b[0m\n\u001b[0;32m-> 3946\u001b[0;31m                 \u001b[0mnew_axis\u001b[0m \u001b[0;34m=\u001b[0m \u001b[0maxis\u001b[0m\u001b[0;34m.\u001b[0m\u001b[0mdrop\u001b[0m\u001b[0;34m(\u001b[0m\u001b[0mlabels\u001b[0m\u001b[0;34m,\u001b[0m \u001b[0merrors\u001b[0m\u001b[0;34m=\u001b[0m\u001b[0merrors\u001b[0m\u001b[0;34m)\u001b[0m\u001b[0;34m\u001b[0m\u001b[0;34m\u001b[0m\u001b[0m\n\u001b[0m\u001b[1;32m   3947\u001b[0m             \u001b[0mresult\u001b[0m \u001b[0;34m=\u001b[0m \u001b[0mself\u001b[0m\u001b[0;34m.\u001b[0m\u001b[0mreindex\u001b[0m\u001b[0;34m(\u001b[0m\u001b[0;34m**\u001b[0m\u001b[0;34m{\u001b[0m\u001b[0maxis_name\u001b[0m\u001b[0;34m:\u001b[0m \u001b[0mnew_axis\u001b[0m\u001b[0;34m}\u001b[0m\u001b[0;34m)\u001b[0m\u001b[0;34m\u001b[0m\u001b[0;34m\u001b[0m\u001b[0m\n\u001b[1;32m   3948\u001b[0m \u001b[0;34m\u001b[0m\u001b[0m\n",
            "\u001b[0;32m/usr/local/lib/python3.6/dist-packages/pandas/core/indexes/base.py\u001b[0m in \u001b[0;36mdrop\u001b[0;34m(self, labels, errors)\u001b[0m\n\u001b[1;32m   5338\u001b[0m         \u001b[0;32mif\u001b[0m \u001b[0mmask\u001b[0m\u001b[0;34m.\u001b[0m\u001b[0many\u001b[0m\u001b[0;34m(\u001b[0m\u001b[0;34m)\u001b[0m\u001b[0;34m:\u001b[0m\u001b[0;34m\u001b[0m\u001b[0;34m\u001b[0m\u001b[0m\n\u001b[1;32m   5339\u001b[0m             \u001b[0;32mif\u001b[0m \u001b[0merrors\u001b[0m \u001b[0;34m!=\u001b[0m \u001b[0;34m\"ignore\"\u001b[0m\u001b[0;34m:\u001b[0m\u001b[0;34m\u001b[0m\u001b[0;34m\u001b[0m\u001b[0m\n\u001b[0;32m-> 5340\u001b[0;31m                 \u001b[0;32mraise\u001b[0m \u001b[0mKeyError\u001b[0m\u001b[0;34m(\u001b[0m\u001b[0;34m\"{} not found in axis\"\u001b[0m\u001b[0;34m.\u001b[0m\u001b[0mformat\u001b[0m\u001b[0;34m(\u001b[0m\u001b[0mlabels\u001b[0m\u001b[0;34m[\u001b[0m\u001b[0mmask\u001b[0m\u001b[0;34m]\u001b[0m\u001b[0;34m)\u001b[0m\u001b[0;34m)\u001b[0m\u001b[0;34m\u001b[0m\u001b[0;34m\u001b[0m\u001b[0m\n\u001b[0m\u001b[1;32m   5341\u001b[0m             \u001b[0mindexer\u001b[0m \u001b[0;34m=\u001b[0m \u001b[0mindexer\u001b[0m\u001b[0;34m[\u001b[0m\u001b[0;34m~\u001b[0m\u001b[0mmask\u001b[0m\u001b[0;34m]\u001b[0m\u001b[0;34m\u001b[0m\u001b[0;34m\u001b[0m\u001b[0m\n\u001b[1;32m   5342\u001b[0m         \u001b[0;32mreturn\u001b[0m \u001b[0mself\u001b[0m\u001b[0;34m.\u001b[0m\u001b[0mdelete\u001b[0m\u001b[0;34m(\u001b[0m\u001b[0mindexer\u001b[0m\u001b[0;34m)\u001b[0m\u001b[0;34m\u001b[0m\u001b[0;34m\u001b[0m\u001b[0m\n",
            "\u001b[0;31mKeyError\u001b[0m: \"['Cabin'] not found in axis\""
          ]
        }
      ]
    },
    {
      "cell_type": "code",
      "metadata": {
        "id": "rKm1hRzJjwPq",
        "colab_type": "code",
        "colab": {
          "base_uri": "https://localhost:8080/",
          "height": 206
        },
        "outputId": "dd5b4071-4c5c-480b-9f53-382595beb63a"
      },
      "source": [
        "titanic_data.head()"
      ],
      "execution_count": 27,
      "outputs": [
        {
          "output_type": "execute_result",
          "data": {
            "text/html": [
              "<div>\n",
              "<style scoped>\n",
              "    .dataframe tbody tr th:only-of-type {\n",
              "        vertical-align: middle;\n",
              "    }\n",
              "\n",
              "    .dataframe tbody tr th {\n",
              "        vertical-align: top;\n",
              "    }\n",
              "\n",
              "    .dataframe thead th {\n",
              "        text-align: right;\n",
              "    }\n",
              "</style>\n",
              "<table border=\"1\" class=\"dataframe\">\n",
              "  <thead>\n",
              "    <tr style=\"text-align: right;\">\n",
              "      <th></th>\n",
              "      <th>PassengerId</th>\n",
              "      <th>Survived</th>\n",
              "      <th>Pclass</th>\n",
              "      <th>Name</th>\n",
              "      <th>Sex</th>\n",
              "      <th>Age</th>\n",
              "      <th>SibSp</th>\n",
              "      <th>Parch</th>\n",
              "      <th>Ticket</th>\n",
              "      <th>Fare</th>\n",
              "      <th>Embarked</th>\n",
              "    </tr>\n",
              "  </thead>\n",
              "  <tbody>\n",
              "    <tr>\n",
              "      <th>0</th>\n",
              "      <td>1</td>\n",
              "      <td>0</td>\n",
              "      <td>3</td>\n",
              "      <td>Braund, Mr. Owen Harris</td>\n",
              "      <td>male</td>\n",
              "      <td>22.0</td>\n",
              "      <td>1</td>\n",
              "      <td>0</td>\n",
              "      <td>A/5 21171</td>\n",
              "      <td>7.2500</td>\n",
              "      <td>S</td>\n",
              "    </tr>\n",
              "    <tr>\n",
              "      <th>1</th>\n",
              "      <td>2</td>\n",
              "      <td>1</td>\n",
              "      <td>1</td>\n",
              "      <td>Cumings, Mrs. John Bradley (Florence Briggs Th...</td>\n",
              "      <td>female</td>\n",
              "      <td>38.0</td>\n",
              "      <td>1</td>\n",
              "      <td>0</td>\n",
              "      <td>PC 17599</td>\n",
              "      <td>71.2833</td>\n",
              "      <td>C</td>\n",
              "    </tr>\n",
              "    <tr>\n",
              "      <th>2</th>\n",
              "      <td>3</td>\n",
              "      <td>1</td>\n",
              "      <td>3</td>\n",
              "      <td>Heikkinen, Miss. Laina</td>\n",
              "      <td>female</td>\n",
              "      <td>26.0</td>\n",
              "      <td>0</td>\n",
              "      <td>0</td>\n",
              "      <td>STON/O2. 3101282</td>\n",
              "      <td>7.9250</td>\n",
              "      <td>S</td>\n",
              "    </tr>\n",
              "    <tr>\n",
              "      <th>3</th>\n",
              "      <td>4</td>\n",
              "      <td>1</td>\n",
              "      <td>1</td>\n",
              "      <td>Futrelle, Mrs. Jacques Heath (Lily May Peel)</td>\n",
              "      <td>female</td>\n",
              "      <td>35.0</td>\n",
              "      <td>1</td>\n",
              "      <td>0</td>\n",
              "      <td>113803</td>\n",
              "      <td>53.1000</td>\n",
              "      <td>S</td>\n",
              "    </tr>\n",
              "    <tr>\n",
              "      <th>4</th>\n",
              "      <td>5</td>\n",
              "      <td>0</td>\n",
              "      <td>3</td>\n",
              "      <td>Allen, Mr. William Henry</td>\n",
              "      <td>male</td>\n",
              "      <td>35.0</td>\n",
              "      <td>0</td>\n",
              "      <td>0</td>\n",
              "      <td>373450</td>\n",
              "      <td>8.0500</td>\n",
              "      <td>S</td>\n",
              "    </tr>\n",
              "  </tbody>\n",
              "</table>\n",
              "</div>"
            ],
            "text/plain": [
              "   PassengerId  Survived  Pclass  ...            Ticket     Fare  Embarked\n",
              "0            1         0       3  ...         A/5 21171   7.2500         S\n",
              "1            2         1       1  ...          PC 17599  71.2833         C\n",
              "2            3         1       3  ...  STON/O2. 3101282   7.9250         S\n",
              "3            4         1       1  ...            113803  53.1000         S\n",
              "4            5         0       3  ...            373450   8.0500         S\n",
              "\n",
              "[5 rows x 11 columns]"
            ]
          },
          "metadata": {
            "tags": []
          },
          "execution_count": 27
        }
      ]
    },
    {
      "cell_type": "markdown",
      "metadata": {
        "id": "lskTCMu3jwPy",
        "colab_type": "text"
      },
      "source": [
        "- Creating a new feature named __FamilySize__."
      ]
    },
    {
      "cell_type": "code",
      "metadata": {
        "id": "lhH4I6n8jwP0",
        "colab_type": "code",
        "colab": {}
      },
      "source": [
        "titanic_data['FamilySize'] = titanic_data['SibSp'] + titanic_data['Parch']+1"
      ],
      "execution_count": 0,
      "outputs": []
    },
    {
      "cell_type": "markdown",
      "metadata": {
        "id": "DRN-P1bajwP6",
        "colab_type": "text"
      },
      "source": [
        "- Segmenting __Sex__ column as per __Age__, Age less than 15 as __Child__, Age greater than 15 as __Males and Females__ as per their gender."
      ]
    },
    {
      "cell_type": "code",
      "metadata": {
        "id": "QPiRCglLjwP8",
        "colab_type": "code",
        "colab": {}
      },
      "source": [
        "titanic_data['GenderClass'] = titanic_data.apply(lambda x: 'child' if x['Age'] < 15 else x['Sex'],axis=1)"
      ],
      "execution_count": 0,
      "outputs": []
    },
    {
      "cell_type": "code",
      "metadata": {
        "id": "LlzduB7zjwQF",
        "colab_type": "code",
        "colab": {
          "base_uri": "https://localhost:8080/",
          "height": 112
        },
        "outputId": "411d6a93-b137-469d-d8df-9444d5312d40"
      },
      "source": [
        "titanic_data[titanic_data.Age<15].head(2)"
      ],
      "execution_count": 30,
      "outputs": [
        {
          "output_type": "execute_result",
          "data": {
            "text/html": [
              "<div>\n",
              "<style scoped>\n",
              "    .dataframe tbody tr th:only-of-type {\n",
              "        vertical-align: middle;\n",
              "    }\n",
              "\n",
              "    .dataframe tbody tr th {\n",
              "        vertical-align: top;\n",
              "    }\n",
              "\n",
              "    .dataframe thead th {\n",
              "        text-align: right;\n",
              "    }\n",
              "</style>\n",
              "<table border=\"1\" class=\"dataframe\">\n",
              "  <thead>\n",
              "    <tr style=\"text-align: right;\">\n",
              "      <th></th>\n",
              "      <th>PassengerId</th>\n",
              "      <th>Survived</th>\n",
              "      <th>Pclass</th>\n",
              "      <th>Name</th>\n",
              "      <th>Sex</th>\n",
              "      <th>Age</th>\n",
              "      <th>SibSp</th>\n",
              "      <th>Parch</th>\n",
              "      <th>Ticket</th>\n",
              "      <th>Fare</th>\n",
              "      <th>Embarked</th>\n",
              "      <th>GenderClass</th>\n",
              "    </tr>\n",
              "  </thead>\n",
              "  <tbody>\n",
              "    <tr>\n",
              "      <th>7</th>\n",
              "      <td>8</td>\n",
              "      <td>0</td>\n",
              "      <td>3</td>\n",
              "      <td>Palsson, Master. Gosta Leonard</td>\n",
              "      <td>male</td>\n",
              "      <td>2.0</td>\n",
              "      <td>3</td>\n",
              "      <td>1</td>\n",
              "      <td>349909</td>\n",
              "      <td>21.0750</td>\n",
              "      <td>S</td>\n",
              "      <td>child</td>\n",
              "    </tr>\n",
              "    <tr>\n",
              "      <th>9</th>\n",
              "      <td>10</td>\n",
              "      <td>1</td>\n",
              "      <td>2</td>\n",
              "      <td>Nasser, Mrs. Nicholas (Adele Achem)</td>\n",
              "      <td>female</td>\n",
              "      <td>14.0</td>\n",
              "      <td>1</td>\n",
              "      <td>0</td>\n",
              "      <td>237736</td>\n",
              "      <td>30.0708</td>\n",
              "      <td>C</td>\n",
              "      <td>child</td>\n",
              "    </tr>\n",
              "  </tbody>\n",
              "</table>\n",
              "</div>"
            ],
            "text/plain": [
              "   PassengerId  Survived  Pclass  ...     Fare Embarked  GenderClass\n",
              "7            8         0       3  ...  21.0750        S        child\n",
              "9           10         1       2  ...  30.0708        C        child\n",
              "\n",
              "[2 rows x 12 columns]"
            ]
          },
          "metadata": {
            "tags": []
          },
          "execution_count": 30
        }
      ]
    },
    {
      "cell_type": "code",
      "metadata": {
        "id": "EHBw7nlNjwQK",
        "colab_type": "code",
        "colab": {
          "base_uri": "https://localhost:8080/",
          "height": 112
        },
        "outputId": "3ce883df-196c-4df6-f90f-0e68694c192b"
      },
      "source": [
        "titanic_data[titanic_data.Age>15].head(2)"
      ],
      "execution_count": 31,
      "outputs": [
        {
          "output_type": "execute_result",
          "data": {
            "text/html": [
              "<div>\n",
              "<style scoped>\n",
              "    .dataframe tbody tr th:only-of-type {\n",
              "        vertical-align: middle;\n",
              "    }\n",
              "\n",
              "    .dataframe tbody tr th {\n",
              "        vertical-align: top;\n",
              "    }\n",
              "\n",
              "    .dataframe thead th {\n",
              "        text-align: right;\n",
              "    }\n",
              "</style>\n",
              "<table border=\"1\" class=\"dataframe\">\n",
              "  <thead>\n",
              "    <tr style=\"text-align: right;\">\n",
              "      <th></th>\n",
              "      <th>PassengerId</th>\n",
              "      <th>Survived</th>\n",
              "      <th>Pclass</th>\n",
              "      <th>Name</th>\n",
              "      <th>Sex</th>\n",
              "      <th>Age</th>\n",
              "      <th>SibSp</th>\n",
              "      <th>Parch</th>\n",
              "      <th>Ticket</th>\n",
              "      <th>Fare</th>\n",
              "      <th>Embarked</th>\n",
              "      <th>GenderClass</th>\n",
              "    </tr>\n",
              "  </thead>\n",
              "  <tbody>\n",
              "    <tr>\n",
              "      <th>0</th>\n",
              "      <td>1</td>\n",
              "      <td>0</td>\n",
              "      <td>3</td>\n",
              "      <td>Braund, Mr. Owen Harris</td>\n",
              "      <td>male</td>\n",
              "      <td>22.0</td>\n",
              "      <td>1</td>\n",
              "      <td>0</td>\n",
              "      <td>A/5 21171</td>\n",
              "      <td>7.2500</td>\n",
              "      <td>S</td>\n",
              "      <td>male</td>\n",
              "    </tr>\n",
              "    <tr>\n",
              "      <th>1</th>\n",
              "      <td>2</td>\n",
              "      <td>1</td>\n",
              "      <td>1</td>\n",
              "      <td>Cumings, Mrs. John Bradley (Florence Briggs Th...</td>\n",
              "      <td>female</td>\n",
              "      <td>38.0</td>\n",
              "      <td>1</td>\n",
              "      <td>0</td>\n",
              "      <td>PC 17599</td>\n",
              "      <td>71.2833</td>\n",
              "      <td>C</td>\n",
              "      <td>female</td>\n",
              "    </tr>\n",
              "  </tbody>\n",
              "</table>\n",
              "</div>"
            ],
            "text/plain": [
              "   PassengerId  Survived  Pclass  ...     Fare Embarked  GenderClass\n",
              "0            1         0       3  ...   7.2500        S         male\n",
              "1            2         1       1  ...  71.2833        C       female\n",
              "\n",
              "[2 rows x 12 columns]"
            ]
          },
          "metadata": {
            "tags": []
          },
          "execution_count": 31
        }
      ]
    },
    {
      "cell_type": "code",
      "metadata": {
        "id": "2ZrArBbSjwQR",
        "colab_type": "code",
        "colab": {},
        "outputId": "42842ce1-1549-469d-9011-d30e3ce84337"
      },
      "source": [
        "titanic_data.columns"
      ],
      "execution_count": 0,
      "outputs": [
        {
          "output_type": "execute_result",
          "data": {
            "text/plain": [
              "Index(['PassengerId', 'Survived', 'Pclass', 'Name', 'Sex', 'Age', 'SibSp',\n",
              "       'Parch', 'Ticket', 'Fare', 'Embarked', 'FamilySize', 'GenderClass'],\n",
              "      dtype='object')"
            ]
          },
          "metadata": {
            "tags": []
          },
          "execution_count": 24
        }
      ]
    },
    {
      "cell_type": "code",
      "metadata": {
        "id": "eK6rq0zKjwQW",
        "colab_type": "code",
        "colab": {},
        "outputId": "ea9ccaee-9d68-4cd1-c407-6452a7314b9f"
      },
      "source": [
        "titanic_data.info()"
      ],
      "execution_count": 0,
      "outputs": [
        {
          "output_type": "stream",
          "text": [
            "<class 'pandas.core.frame.DataFrame'>\n",
            "RangeIndex: 891 entries, 0 to 890\n",
            "Data columns (total 13 columns):\n",
            "PassengerId    891 non-null int64\n",
            "Survived       891 non-null int64\n",
            "Pclass         891 non-null int64\n",
            "Name           891 non-null object\n",
            "Sex            891 non-null object\n",
            "Age            891 non-null float64\n",
            "SibSp          891 non-null int64\n",
            "Parch          891 non-null int64\n",
            "Ticket         891 non-null object\n",
            "Fare           891 non-null float64\n",
            "Embarked       891 non-null object\n",
            "FamilySize     891 non-null int64\n",
            "GenderClass    891 non-null object\n",
            "dtypes: float64(2), int64(6), object(5)\n",
            "memory usage: 90.6+ KB\n"
          ],
          "name": "stdout"
        }
      ]
    },
    {
      "cell_type": "markdown",
      "metadata": {
        "id": "Ke60u3RLjwQa",
        "colab_type": "text"
      },
      "source": [
        "- __Dummification__ of __GenderClass__ & __Embarked__."
      ]
    },
    {
      "cell_type": "code",
      "metadata": {
        "id": "AcoOyFW6jwQc",
        "colab_type": "code",
        "colab": {}
      },
      "source": [
        "titanic_data = pd.get_dummies(titanic_data, columns=['GenderClass','Embarked'], drop_first=True)"
      ],
      "execution_count": 0,
      "outputs": []
    },
    {
      "cell_type": "markdown",
      "metadata": {
        "id": "IoH3y1JljwQl",
        "colab_type": "text"
      },
      "source": [
        "- __Dropping__ columns __'Name' , 'Ticket' , 'Sex' , 'SibSp' and 'Parch'__ "
      ]
    },
    {
      "cell_type": "code",
      "metadata": {
        "id": "G6IC9GLkjwQo",
        "colab_type": "code",
        "colab": {
          "base_uri": "https://localhost:8080/",
          "height": 206
        },
        "outputId": "d3bdd22a-bae3-47aa-8d32-677ff5850fd0"
      },
      "source": [
        "titanic = titanic_data.drop(['Name','Ticket','Sex','SibSp','Parch', 'PassengerId'], axis = 1)\n",
        "titanic.head()"
      ],
      "execution_count": 32,
      "outputs": [
        {
          "output_type": "execute_result",
          "data": {
            "text/html": [
              "<div>\n",
              "<style scoped>\n",
              "    .dataframe tbody tr th:only-of-type {\n",
              "        vertical-align: middle;\n",
              "    }\n",
              "\n",
              "    .dataframe tbody tr th {\n",
              "        vertical-align: top;\n",
              "    }\n",
              "\n",
              "    .dataframe thead th {\n",
              "        text-align: right;\n",
              "    }\n",
              "</style>\n",
              "<table border=\"1\" class=\"dataframe\">\n",
              "  <thead>\n",
              "    <tr style=\"text-align: right;\">\n",
              "      <th></th>\n",
              "      <th>Survived</th>\n",
              "      <th>Pclass</th>\n",
              "      <th>Age</th>\n",
              "      <th>Fare</th>\n",
              "      <th>Embarked</th>\n",
              "      <th>GenderClass</th>\n",
              "    </tr>\n",
              "  </thead>\n",
              "  <tbody>\n",
              "    <tr>\n",
              "      <th>0</th>\n",
              "      <td>0</td>\n",
              "      <td>3</td>\n",
              "      <td>22.0</td>\n",
              "      <td>7.2500</td>\n",
              "      <td>S</td>\n",
              "      <td>male</td>\n",
              "    </tr>\n",
              "    <tr>\n",
              "      <th>1</th>\n",
              "      <td>1</td>\n",
              "      <td>1</td>\n",
              "      <td>38.0</td>\n",
              "      <td>71.2833</td>\n",
              "      <td>C</td>\n",
              "      <td>female</td>\n",
              "    </tr>\n",
              "    <tr>\n",
              "      <th>2</th>\n",
              "      <td>1</td>\n",
              "      <td>3</td>\n",
              "      <td>26.0</td>\n",
              "      <td>7.9250</td>\n",
              "      <td>S</td>\n",
              "      <td>female</td>\n",
              "    </tr>\n",
              "    <tr>\n",
              "      <th>3</th>\n",
              "      <td>1</td>\n",
              "      <td>1</td>\n",
              "      <td>35.0</td>\n",
              "      <td>53.1000</td>\n",
              "      <td>S</td>\n",
              "      <td>female</td>\n",
              "    </tr>\n",
              "    <tr>\n",
              "      <th>4</th>\n",
              "      <td>0</td>\n",
              "      <td>3</td>\n",
              "      <td>35.0</td>\n",
              "      <td>8.0500</td>\n",
              "      <td>S</td>\n",
              "      <td>male</td>\n",
              "    </tr>\n",
              "  </tbody>\n",
              "</table>\n",
              "</div>"
            ],
            "text/plain": [
              "   Survived  Pclass   Age     Fare Embarked GenderClass\n",
              "0         0       3  22.0   7.2500        S        male\n",
              "1         1       1  38.0  71.2833        C      female\n",
              "2         1       3  26.0   7.9250        S      female\n",
              "3         1       1  35.0  53.1000        S      female\n",
              "4         0       3  35.0   8.0500        S        male"
            ]
          },
          "metadata": {
            "tags": []
          },
          "execution_count": 32
        }
      ]
    },
    {
      "cell_type": "markdown",
      "metadata": {
        "id": "6budCHDIjwQu",
        "colab_type": "text"
      },
      "source": [
        "Drawing __pair plot__ to know the joint relationship between __'Fare' , 'Age' , 'Pclass' & 'Survived'__"
      ]
    },
    {
      "cell_type": "code",
      "metadata": {
        "id": "XCFCvSebjwQw",
        "colab_type": "code",
        "colab": {
          "base_uri": "https://localhost:8080/",
          "height": 564
        },
        "outputId": "0d0de604-6fe9-45d9-8cbc-5012d0536288"
      },
      "source": [
        "sns.pairplot(titanic_data[[\"Fare\",\"Age\",\"Pclass\",\"Survived\"]],vars = [\"Fare\",\"Age\",\"Pclass\"],hue=\"Survived\", dropna=True,markers=[\"o\", \"s\"])\n",
        "plt.title('Pair Plot')"
      ],
      "execution_count": 33,
      "outputs": [
        {
          "output_type": "execute_result",
          "data": {
            "text/plain": [
              "Text(0.5, 1, 'Pair Plot')"
            ]
          },
          "metadata": {
            "tags": []
          },
          "execution_count": 33
        },
        {
          "output_type": "display_data",
          "data": {
            "image/png": "[encoded data removed]",
            "text/plain": [
              "<Figure size 591.875x540 with 12 Axes>"
            ]
          },
          "metadata": {
            "tags": []
          }
        }
      ]
    },
    {
      "cell_type": "markdown",
      "metadata": {
        "id": "rzMkdtcLjwQ0",
        "colab_type": "text"
      },
      "source": [
        "Observing the diagonal elements,\n",
        "- More people of __Pclass 1__ _survived_ than died (First peak of red is higher than blue)\n",
        "- More people of __Pclass 3__ _died_ than survived (Third peak of blue is higher than red)\n",
        "- More people of age group __20-40 died__ than survived.\n",
        "- Most of the people paying __less fare died__."
      ]
    },
    {
      "cell_type": "markdown",
      "metadata": {
        "id": "tz1EGFetjwQ2",
        "colab_type": "text"
      },
      "source": [
        "Establishing __coorelation__ between all the features using __heatmap__."
      ]
    },
    {
      "cell_type": "code",
      "metadata": {
        "scrolled": true,
        "id": "ZTiQV76wjwQ3",
        "colab_type": "code",
        "colab": {
          "base_uri": "https://localhost:8080/",
          "height": 593
        },
        "outputId": "a617dca3-9c0c-402e-9ea5-e27810536d65"
      },
      "source": [
        "corr = titanic.corr()\n",
        "plt.figure(figsize=(10,10))\n",
        "sns.heatmap(corr,vmax=.8,linewidth=.01, square = True, annot = True,cmap='YlGnBu',linecolor ='black')\n",
        "plt.title('Correlation between features')"
      ],
      "execution_count": 35,
      "outputs": [
        {
          "output_type": "execute_result",
          "data": {
            "text/plain": [
              "Text(0.5, 1, 'Correlation between features')"
            ]
          },
          "metadata": {
            "tags": []
          },
          "execution_count": 35
        },
        {
          "output_type": "display_data",
          "data": {
            "image/png": "[encoded data removed]",
            "text/plain": [
              "<Figure size 720x720 with 2 Axes>"
            ]
          },
          "metadata": {
            "tags": []
          }
        }
      ]
    },
    {
      "cell_type": "code",
      "metadata": {
        "id": "NUja1hZWjwQ_",
        "colab_type": "code",
        "colab": {
          "base_uri": "https://localhost:8080/",
          "height": 36
        },
        "outputId": "d7f2bad6-f130-42d8-8245-8b900b7bc5c3"
      },
      "source": [
        "titanic.columns"
      ],
      "execution_count": 37,
      "outputs": [
        {
          "output_type": "execute_result",
          "data": {
            "text/plain": [
              "Index(['Survived', 'Pclass', 'Age', 'Fare', 'Embarked', 'GenderClass'], dtype='object')"
            ]
          },
          "metadata": {
            "tags": []
          },
          "execution_count": 37
        }
      ]
    },
    {
      "cell_type": "code",
      "metadata": {
        "id": "IF3iOj5fjwRD",
        "colab_type": "code",
        "colab": {},
        "outputId": "7f1aa075-3bf9-4742-fe99-352c587f75fe"
      },
      "source": [
        "titanic = titanic.drop(['GenderClass_female'], axis = 1)\n",
        "titanic.head()"
      ],
      "execution_count": 0,
      "outputs": [
        {
          "output_type": "execute_result",
          "data": {
            "text/html": [
              "<div>\n",
              "<style scoped>\n",
              "    .dataframe tbody tr th:only-of-type {\n",
              "        vertical-align: middle;\n",
              "    }\n",
              "\n",
              "    .dataframe tbody tr th {\n",
              "        vertical-align: top;\n",
              "    }\n",
              "\n",
              "    .dataframe thead th {\n",
              "        text-align: right;\n",
              "    }\n",
              "</style>\n",
              "<table border=\"1\" class=\"dataframe\">\n",
              "  <thead>\n",
              "    <tr style=\"text-align: right;\">\n",
              "      <th></th>\n",
              "      <th>Survived</th>\n",
              "      <th>Pclass</th>\n",
              "      <th>Age</th>\n",
              "      <th>Fare</th>\n",
              "      <th>FamilySize</th>\n",
              "      <th>GenderClass_male</th>\n",
              "      <th>Embarked_Q</th>\n",
              "      <th>Embarked_S</th>\n",
              "    </tr>\n",
              "  </thead>\n",
              "  <tbody>\n",
              "    <tr>\n",
              "      <td>0</td>\n",
              "      <td>0</td>\n",
              "      <td>3</td>\n",
              "      <td>22.0</td>\n",
              "      <td>7.2500</td>\n",
              "      <td>2</td>\n",
              "      <td>1</td>\n",
              "      <td>0</td>\n",
              "      <td>1</td>\n",
              "    </tr>\n",
              "    <tr>\n",
              "      <td>1</td>\n",
              "      <td>1</td>\n",
              "      <td>1</td>\n",
              "      <td>38.0</td>\n",
              "      <td>71.2833</td>\n",
              "      <td>2</td>\n",
              "      <td>0</td>\n",
              "      <td>0</td>\n",
              "      <td>0</td>\n",
              "    </tr>\n",
              "    <tr>\n",
              "      <td>2</td>\n",
              "      <td>1</td>\n",
              "      <td>3</td>\n",
              "      <td>26.0</td>\n",
              "      <td>7.9250</td>\n",
              "      <td>1</td>\n",
              "      <td>0</td>\n",
              "      <td>0</td>\n",
              "      <td>1</td>\n",
              "    </tr>\n",
              "    <tr>\n",
              "      <td>3</td>\n",
              "      <td>1</td>\n",
              "      <td>1</td>\n",
              "      <td>35.0</td>\n",
              "      <td>53.1000</td>\n",
              "      <td>2</td>\n",
              "      <td>0</td>\n",
              "      <td>0</td>\n",
              "      <td>1</td>\n",
              "    </tr>\n",
              "    <tr>\n",
              "      <td>4</td>\n",
              "      <td>0</td>\n",
              "      <td>3</td>\n",
              "      <td>35.0</td>\n",
              "      <td>8.0500</td>\n",
              "      <td>1</td>\n",
              "      <td>1</td>\n",
              "      <td>0</td>\n",
              "      <td>1</td>\n",
              "    </tr>\n",
              "  </tbody>\n",
              "</table>\n",
              "</div>"
            ],
            "text/plain": [
              "   Survived  Pclass   Age     Fare  FamilySize  GenderClass_male  Embarked_Q  \\\n",
              "0         0       3  22.0   7.2500           2                 1           0   \n",
              "1         1       1  38.0  71.2833           2                 0           0   \n",
              "2         1       3  26.0   7.9250           1                 0           0   \n",
              "3         1       1  35.0  53.1000           2                 0           0   \n",
              "4         0       3  35.0   8.0500           1                 1           0   \n",
              "\n",
              "   Embarked_S  \n",
              "0           1  \n",
              "1           0  \n",
              "2           1  \n",
              "3           1  \n",
              "4           1  "
            ]
          },
          "metadata": {
            "tags": []
          },
          "execution_count": 33
        }
      ]
    },
    {
      "cell_type": "code",
      "metadata": {
        "id": "EJGIluuxjwRK",
        "colab_type": "code",
        "colab": {
          "base_uri": "https://localhost:8080/",
          "height": 593
        },
        "outputId": "9b754e7f-e4da-404e-d6a8-8b0969165474"
      },
      "source": [
        "corr = titanic.corr()\n",
        "plt.figure(figsize=(10,10))\n",
        "sns.heatmap(corr,vmax=.8,linewidth=.01, square = True, annot = True,cmap='YlGnBu',linecolor ='black')\n",
        "plt.title('Correlation between features')"
      ],
      "execution_count": 38,
      "outputs": [
        {
          "output_type": "execute_result",
          "data": {
            "text/plain": [
              "Text(0.5, 1, 'Correlation between features')"
            ]
          },
          "metadata": {
            "tags": []
          },
          "execution_count": 38
        },
        {
          "output_type": "display_data",
          "data": {
            "image/png": "[encoded data removed]",
            "text/plain": [
              "<Figure size 720x720 with 2 Axes>"
            ]
          },
          "metadata": {
            "tags": []
          }
        }
      ]
    },
    {
      "cell_type": "markdown",
      "metadata": {
        "id": "GqpqlbsujwRO",
        "colab_type": "text"
      },
      "source": [
        "- __Age and Pclass are negatively corelated with Survived.__\n",
        "- FamilySize is made from Parch and SibSb only therefore high positive corelation among them.\n",
        "- __Fare and FamilySize__ are __positively coorelated with Survived.__\n",
        "- With high corelation we face __redundancy__ issues."
      ]
    },
    {
      "cell_type": "markdown",
      "metadata": {
        "id": "ctiXfmZOjwRP",
        "colab_type": "text"
      },
      "source": [
        "<a id=section4></a>"
      ]
    },
    {
      "cell_type": "markdown",
      "metadata": {
        "id": "S-TibPtkjwRR",
        "colab_type": "text"
      },
      "source": [
        "## 4. Logistic Regression"
      ]
    },
    {
      "cell_type": "markdown",
      "metadata": {
        "id": "rpGpe4b6jwRS",
        "colab_type": "text"
      },
      "source": [
        "<a id=section401></a>"
      ]
    },
    {
      "cell_type": "markdown",
      "metadata": {
        "id": "LfwFUoPCjwRT",
        "colab_type": "text"
      },
      "source": [
        "### 4.1 Introduction to Logistic Regression"
      ]
    },
    {
      "cell_type": "markdown",
      "metadata": {
        "id": "jwfwktTrjwRU",
        "colab_type": "text"
      },
      "source": [
        "Logistic regression is a techinque used for solving the __classification problem__.<br/> And Classification is nothing but a problem of __identifing__ to which of a set of __categories__ a new observation belongs, on the basis of _training dataset_ containing observations (or instances) whose categorical membership is known. <br/>For example to predict:<br/> __Whether an email is spam (1) or not (0)__ or,<br/> __Whether the tumor is malignant (1) or not (0)<br/>__\n",
        "Below is the pictorial representation of a basic logistic regression model to classify set of images into _happy or sad._\n",
        "![image.png](attachment:image.png)"
      ]
    },
    {
      "cell_type": "markdown",
      "metadata": {
        "id": "kUClg3jgjwRV",
        "colab_type": "text"
      },
      "source": [
        "Both Linear regression and Logistic regression are __supervised learning techinques__. But for the _Regression_ problem the output is __continuous__ unlike the _classification_ problem where the output is __discrete__. <br/>\n",
        "- Logistic Regression is used when the __dependent variable(target) is categorical__.<br/>\n",
        "- __Sigmoid function__ or logistic function is used as _hypothesis function_ for logistic regression. Below is a figure showing the difference between linear regression and logistic regression, Also notice that logistic regression produces a logistic curve, which is limited to values between 0 and 1. <br/> \n",
        "![image.png](attachment:image.png)"
      ]
    },
    {
      "cell_type": "markdown",
      "metadata": {
        "id": "6tYSjui9jwRX",
        "colab_type": "text"
      },
      "source": [
        "<a id=section402></a>"
      ]
    },
    {
      "cell_type": "markdown",
      "metadata": {
        "id": "cwEVDCurjwRY",
        "colab_type": "text"
      },
      "source": [
        "## 4.2 Mathematics behind Logistic Regression\n",
        "\n",
        "The __odds__ for an event is the __(probability of an event occuring) / (probability of event not occuring)__:\n",
        "![image.png](attachment:image.png)\n",
        "For __Linear regression__: continuous response is modeled as a linear combination of the features: __y = β0 + β1x__<br/>\n",
        "For __Logistic regression__: log-odds of a categorical response being \"__true__\" (1) is modeled as a linear combination of the features:"
      ]
    },
    {
      "cell_type": "markdown",
      "metadata": {
        "id": "mnCU4X6jjwRZ",
        "colab_type": "text"
      },
      "source": [
        "![image.png](attachment:image.png)\n",
        "This is called the __logit function__.<br/>\n",
        "On solving for probability (p) you will get:"
      ]
    },
    {
      "cell_type": "markdown",
      "metadata": {
        "id": "ATD_DwdRjwRa",
        "colab_type": "text"
      },
      "source": [
        "![image.png](attachment:image.png)"
      ]
    },
    {
      "cell_type": "markdown",
      "metadata": {
        "id": "iLP4IdMLjwRb",
        "colab_type": "text"
      },
      "source": [
        "![image.png](attachment:image.png)\n"
      ]
    },
    {
      "cell_type": "markdown",
      "metadata": {
        "id": "nt8jieZgjwRb",
        "colab_type": "text"
      },
      "source": [
        "Shown below is the plot showing __linear model__ and __logistic model__: "
      ]
    },
    {
      "cell_type": "markdown",
      "metadata": {
        "id": "7VELBMp-jwRd",
        "colab_type": "text"
      },
      "source": [
        "![image.png](attachment:image.png)\n"
      ]
    },
    {
      "cell_type": "markdown",
      "metadata": {
        "id": "ZPdu8-XnjwRe",
        "colab_type": "text"
      },
      "source": [
        "In other words:\n",
        "\n",
        "- Logistic regression outputs the __probabilities of a specific class__.\n",
        "- Those probabilities can be converted into __class predictions__.\n",
        "\n",
        "\n",
        "The logistic function has some nice properties:\n",
        "\n",
        "- Takes on an __\"s\"__ shape\n",
        "- Output is bounded by __0 and 1__<br/>\n",
        "\n",
        "\n",
        "We have covered how this works for binary classification problems (two response classes). But what about __multi-class classification problems__ (more than two response classes)?\n",
        "\n",
        "- Most common solution for classification models is __\"one-vs-all\"__ (also known as __\"one-vs-rest\"__): decompose the problem into multiple binary classification problems.\n",
        "- __Multinomial logistic regression__ can solve this as a single problem."
      ]
    },
    {
      "cell_type": "markdown",
      "metadata": {
        "id": "K0sNChSDjwRg",
        "colab_type": "text"
      },
      "source": [
        "<a id=section403></a>"
      ]
    },
    {
      "cell_type": "markdown",
      "metadata": {
        "id": "615hTTgFjwRg",
        "colab_type": "text"
      },
      "source": [
        "## 4.3 __Applications of Logistic Regression__"
      ]
    },
    {
      "cell_type": "markdown",
      "metadata": {
        "id": "sBU5EYMcjwRi",
        "colab_type": "text"
      },
      "source": [
        "Logistic Regression was used in __biological sciences__ in early twentieth century. It was then used in many social science applications. For instance,\n",
        "- The Trauma and Injury Severity Score (TRISS), which is widely used to __predict mortality in injured patients__, was originally developed by Boyd et al. using logistic regression.<br/> \n",
        "- Many other medical scales used to __assess severity__ of a patient have been developed using logistic regression.<br/>\n",
        "- Logistic regression may be used to __predict the risk of developing a given disease__ (e.g. diabetes; coronary heart disease), based on observed characteristics of the patient (age, sex, body mass index, results of various blood tests, etc.).<br/>\n",
        "\n",
        "Now a days, Logistic Regression have the following applications \n",
        "1. Image segementation and  categorization\n",
        "2. Geographic image processing\n",
        "3. Handwriting recognition\n",
        "4. Detection of  myocardinal infarction\n",
        "5. Predict whether a person is depressed or not based on a bag of words from corpus. \n",
        "![image.png](attachment:image.png)\n",
        "\n",
        "The reason why logistic regression is widely used despite of the state of the art of deep neural network is that logistic regression is very __efficient__ and does __not__ require too much __computational resources__, which makes it __affordable__ to run on production."
      ]
    },
    {
      "cell_type": "markdown",
      "metadata": {
        "id": "nUv7rz4GjwRj",
        "colab_type": "text"
      },
      "source": [
        "<a id=section404></a>"
      ]
    },
    {
      "cell_type": "markdown",
      "metadata": {
        "id": "JhEQaXL8jwRj",
        "colab_type": "text"
      },
      "source": [
        "## 4.4 Preparing X and y using pandas"
      ]
    },
    {
      "cell_type": "code",
      "metadata": {
        "scrolled": true,
        "id": "iLwf3OeHjwRk",
        "colab_type": "code",
        "colab": {},
        "outputId": "76525cfb-7255-4581-cb66-77ac1ab1b0f5"
      },
      "source": [
        "X = titanic.loc[:,titanic.columns != 'Survived']\n",
        "X.head()"
      ],
      "execution_count": 0,
      "outputs": [
        {
          "output_type": "execute_result",
          "data": {
            "text/html": [
              "<div>\n",
              "<style scoped>\n",
              "    .dataframe tbody tr th:only-of-type {\n",
              "        vertical-align: middle;\n",
              "    }\n",
              "\n",
              "    .dataframe tbody tr th {\n",
              "        vertical-align: top;\n",
              "    }\n",
              "\n",
              "    .dataframe thead th {\n",
              "        text-align: right;\n",
              "    }\n",
              "</style>\n",
              "<table border=\"1\" class=\"dataframe\">\n",
              "  <thead>\n",
              "    <tr style=\"text-align: right;\">\n",
              "      <th></th>\n",
              "      <th>Pclass</th>\n",
              "      <th>Age</th>\n",
              "      <th>Fare</th>\n",
              "      <th>FamilySize</th>\n",
              "      <th>GenderClass_male</th>\n",
              "      <th>Embarked_Q</th>\n",
              "      <th>Embarked_S</th>\n",
              "    </tr>\n",
              "  </thead>\n",
              "  <tbody>\n",
              "    <tr>\n",
              "      <td>0</td>\n",
              "      <td>3</td>\n",
              "      <td>22.0</td>\n",
              "      <td>7.2500</td>\n",
              "      <td>2</td>\n",
              "      <td>1</td>\n",
              "      <td>0</td>\n",
              "      <td>1</td>\n",
              "    </tr>\n",
              "    <tr>\n",
              "      <td>1</td>\n",
              "      <td>1</td>\n",
              "      <td>38.0</td>\n",
              "      <td>71.2833</td>\n",
              "      <td>2</td>\n",
              "      <td>0</td>\n",
              "      <td>0</td>\n",
              "      <td>0</td>\n",
              "    </tr>\n",
              "    <tr>\n",
              "      <td>2</td>\n",
              "      <td>3</td>\n",
              "      <td>26.0</td>\n",
              "      <td>7.9250</td>\n",
              "      <td>1</td>\n",
              "      <td>0</td>\n",
              "      <td>0</td>\n",
              "      <td>1</td>\n",
              "    </tr>\n",
              "    <tr>\n",
              "      <td>3</td>\n",
              "      <td>1</td>\n",
              "      <td>35.0</td>\n",
              "      <td>53.1000</td>\n",
              "      <td>2</td>\n",
              "      <td>0</td>\n",
              "      <td>0</td>\n",
              "      <td>1</td>\n",
              "    </tr>\n",
              "    <tr>\n",
              "      <td>4</td>\n",
              "      <td>3</td>\n",
              "      <td>35.0</td>\n",
              "      <td>8.0500</td>\n",
              "      <td>1</td>\n",
              "      <td>1</td>\n",
              "      <td>0</td>\n",
              "      <td>1</td>\n",
              "    </tr>\n",
              "  </tbody>\n",
              "</table>\n",
              "</div>"
            ],
            "text/plain": [
              "   Pclass   Age     Fare  FamilySize  GenderClass_male  Embarked_Q  Embarked_S\n",
              "0       3  22.0   7.2500           2                 1           0           1\n",
              "1       1  38.0  71.2833           2                 0           0           0\n",
              "2       3  26.0   7.9250           1                 0           0           1\n",
              "3       1  35.0  53.1000           2                 0           0           1\n",
              "4       3  35.0   8.0500           1                 1           0           1"
            ]
          },
          "metadata": {
            "tags": []
          },
          "execution_count": 35
        }
      ]
    },
    {
      "cell_type": "code",
      "metadata": {
        "id": "7PIyXHoijwRo",
        "colab_type": "code",
        "colab": {}
      },
      "source": [
        "y = titanic.Survived "
      ],
      "execution_count": 0,
      "outputs": []
    },
    {
      "cell_type": "code",
      "metadata": {
        "id": "HNTyKdUbjwRr",
        "colab_type": "code",
        "colab": {},
        "outputId": "1c7dd416-3678-4dff-8f09-903262c5ed34"
      },
      "source": [
        "#scaling on X\n",
        "\n",
        "from sklearn.preprocessing import StandardScaler\n",
        "sc = StandardScaler()\n",
        "sc.fit(X)                                                                                   # fit the data to Standardscaler\n",
        "\n",
        "Xs = sc.transform(X)                                                               # transform the data\n",
        "\n",
        "print('After standardizing our features, the first 5 rows of our data now look like this:\\n')   # print the first 5 value after standardization\n",
        "print(pd.DataFrame(Xs, columns=X.columns).head()) "
      ],
      "execution_count": 0,
      "outputs": [
        {
          "output_type": "stream",
          "text": [
            "After standardizing our features, the first 5 rows of our data now look like this:\n",
            "\n",
            "     Pclass       Age      Fare  FamilySize  GenderClass_male  Embarked_Q  \\\n",
            "0  0.827377 -0.565736 -0.502445    0.059160          0.810021   -0.307562   \n",
            "1 -1.566107  0.663861  0.786845    0.059160         -1.234536   -0.307562   \n",
            "2  0.827377 -0.258337 -0.488854   -0.560975         -1.234536   -0.307562   \n",
            "3 -1.566107  0.433312  0.420730    0.059160         -1.234536   -0.307562   \n",
            "4  0.827377  0.433312 -0.486337   -0.560975          0.810021   -0.307562   \n",
            "\n",
            "   Embarked_S  \n",
            "0    0.615838  \n",
            "1   -1.623803  \n",
            "2    0.615838  \n",
            "3    0.615838  \n",
            "4    0.615838  \n"
          ],
          "name": "stdout"
        }
      ]
    },
    {
      "cell_type": "markdown",
      "metadata": {
        "id": "S4rxNhxfjwRv",
        "colab_type": "text"
      },
      "source": [
        "<a id=section405></a>"
      ]
    },
    {
      "cell_type": "markdown",
      "metadata": {
        "id": "OVLF_Y2gjwRw",
        "colab_type": "text"
      },
      "source": [
        "## 4.5 Splitting X and y into training and test datasets."
      ]
    },
    {
      "cell_type": "code",
      "metadata": {
        "id": "bwpjR8WGjwRx",
        "colab_type": "code",
        "colab": {}
      },
      "source": [
        "from sklearn.model_selection import train_test_split\n",
        "X_train, X_test, y_train, y_test = train_test_split(Xs, y, test_size=0.20, random_state=1)"
      ],
      "execution_count": 0,
      "outputs": []
    },
    {
      "cell_type": "code",
      "metadata": {
        "id": "nWtY5tzzjwR0",
        "colab_type": "code",
        "colab": {},
        "outputId": "f3b1a20e-df14-4080-c85d-84ddab7c19f2"
      },
      "source": [
        "print(X_train.shape)\n",
        "print(y_train.shape)"
      ],
      "execution_count": 0,
      "outputs": [
        {
          "output_type": "stream",
          "text": [
            "(712, 7)\n",
            "(712,)\n"
          ],
          "name": "stdout"
        }
      ]
    },
    {
      "cell_type": "markdown",
      "metadata": {
        "id": "9rmg9vLLjwR5",
        "colab_type": "text"
      },
      "source": [
        "<a id=section406></a>"
      ]
    },
    {
      "cell_type": "markdown",
      "metadata": {
        "id": "mTahMBsMjwR7",
        "colab_type": "text"
      },
      "source": [
        "## 4.6 Logistic regression in scikit-learn"
      ]
    },
    {
      "cell_type": "markdown",
      "metadata": {
        "id": "kM12kNp6jwR7",
        "colab_type": "text"
      },
      "source": [
        "To apply any machine learning algorithm on your dataset, basically there are 4 steps:\n",
        "1. Load the algorithm\n",
        "2. Instantiate and Fit the model to the training dataset\n",
        "3. Prediction on the test set\n",
        "4. Calculating the accuracy of the model\n",
        "\n",
        "The code block given below shows how these steps are carried out:<br/>\n",
        "\n",
        "``` from sklearn.linear_model import LogisticRegression\n",
        "    logreg = LogisticRegression()\n",
        "    logreg.fit(X_train, y_train)\n",
        "    accuracy_score(y_test,y_pred_test))\n",
        "    ```"
      ]
    },
    {
      "cell_type": "code",
      "metadata": {
        "id": "1KcPtmwujwR8",
        "colab_type": "code",
        "colab": {},
        "outputId": "ff5d8f4f-fd49-499b-e350-817d85185159"
      },
      "source": [
        "from sklearn.linear_model import LogisticRegression\n",
        "logreg = LogisticRegression()\n",
        "logreg.fit(X_train,y_train)"
      ],
      "execution_count": 0,
      "outputs": [
        {
          "output_type": "stream",
          "text": [
            "C:\\ProgramData\\Anaconda3\\lib\\site-packages\\sklearn\\linear_model\\logistic.py:432: FutureWarning: Default solver will be changed to 'lbfgs' in 0.22. Specify a solver to silence this warning.\n",
            "  FutureWarning)\n"
          ],
          "name": "stderr"
        },
        {
          "output_type": "execute_result",
          "data": {
            "text/plain": [
              "LogisticRegression(C=1.0, class_weight=None, dual=False, fit_intercept=True,\n",
              "                   intercept_scaling=1, l1_ratio=None, max_iter=100,\n",
              "                   multi_class='warn', n_jobs=None, penalty='l2',\n",
              "                   random_state=None, solver='warn', tol=0.0001, verbose=0,\n",
              "                   warm_start=False)"
            ]
          },
          "metadata": {
            "tags": []
          },
          "execution_count": 43
        }
      ]
    },
    {
      "cell_type": "markdown",
      "metadata": {
        "id": "J1AyKSSZjwSA",
        "colab_type": "text"
      },
      "source": [
        "<a id=section407></a>"
      ]
    },
    {
      "cell_type": "markdown",
      "metadata": {
        "id": "UpDuhRybjwSC",
        "colab_type": "text"
      },
      "source": [
        "## 4.7 Using the Model for Prediction"
      ]
    },
    {
      "cell_type": "code",
      "metadata": {
        "id": "6WHv5jdhjwSD",
        "colab_type": "code",
        "colab": {}
      },
      "source": [
        "y_pred_train = logreg.predict(X_train)  "
      ],
      "execution_count": 0,
      "outputs": []
    },
    {
      "cell_type": "code",
      "metadata": {
        "id": "cGxC-Nq5jwSI",
        "colab_type": "code",
        "colab": {}
      },
      "source": [
        "y_pred_test = logreg.predict(X_test)                                                           # make predictions on the testing set"
      ],
      "execution_count": 0,
      "outputs": []
    },
    {
      "cell_type": "code",
      "metadata": {
        "id": "7jUVwLdIjwSR",
        "colab_type": "code",
        "colab": {},
        "outputId": "d13e72a8-0c12-48d0-f16d-4db594297256"
      },
      "source": [
        "y_pred_prob_test = logreg.predict_proba(X_test)  \n",
        "y_pred_prob_test\n",
        "\n",
        "#this is where we can change prob thresholf"
      ],
      "execution_count": 0,
      "outputs": [
        {
          "output_type": "execute_result",
          "data": {
            "text/plain": [
              "array([[0.06733283, 0.93266717],\n",
              "       [0.93271275, 0.06728725],\n",
              "       [0.12189791, 0.87810209],\n",
              "       [0.29041992, 0.70958008],\n",
              "       [0.1891249 , 0.8108751 ],\n",
              "       [0.92519405, 0.07480595],\n",
              "       [0.91008996, 0.08991004],\n",
              "       [0.07342529, 0.92657471],\n",
              "       [0.53730908, 0.46269092],\n",
              "       [0.36552616, 0.63447384],\n",
              "       [0.92957816, 0.07042184],\n",
              "       [0.3334411 , 0.6665589 ],\n",
              "       [0.6704743 , 0.3295257 ],\n",
              "       [0.81595905, 0.18404095],\n",
              "       [0.29056837, 0.70943163],\n",
              "       [0.58263194, 0.41736806],\n",
              "       [0.68724586, 0.31275414],\n",
              "       [0.94805616, 0.05194384],\n",
              "       [0.94044898, 0.05955102],\n",
              "       [0.47553045, 0.52446955],\n",
              "       [0.93668774, 0.06331226],\n",
              "       [0.92439698, 0.07560302],\n",
              "       [0.02932149, 0.97067851],\n",
              "       [0.7709634 , 0.2290366 ],\n",
              "       [0.27429567, 0.72570433],\n",
              "       [0.93159178, 0.06840822],\n",
              "       [0.07433401, 0.92566599],\n",
              "       [0.17196937, 0.82803063],\n",
              "       [0.81172427, 0.18827573],\n",
              "       [0.03606571, 0.96393429],\n",
              "       [0.3180651 , 0.6819349 ],\n",
              "       [0.58084555, 0.41915445],\n",
              "       [0.83330919, 0.16669081],\n",
              "       [0.41256056, 0.58743944],\n",
              "       [0.93087804, 0.06912196],\n",
              "       [0.74170821, 0.25829179],\n",
              "       [0.61407465, 0.38592535],\n",
              "       [0.93278076, 0.06721924],\n",
              "       [0.53750342, 0.46249658],\n",
              "       [0.9240581 , 0.0759419 ],\n",
              "       [0.33707362, 0.66292638],\n",
              "       [0.50720395, 0.49279605],\n",
              "       [0.12099473, 0.87900527],\n",
              "       [0.6491277 , 0.3508723 ],\n",
              "       [0.11818233, 0.88181767],\n",
              "       [0.93961879, 0.06038121],\n",
              "       [0.8144824 , 0.1855176 ],\n",
              "       [0.84137604, 0.15862396],\n",
              "       [0.29080332, 0.70919668],\n",
              "       [0.7855414 , 0.2144586 ],\n",
              "       [0.74060817, 0.25939183],\n",
              "       [0.12905049, 0.87094951],\n",
              "       [0.79366419, 0.20633581],\n",
              "       [0.83538042, 0.16461958],\n",
              "       [0.93354378, 0.06645622],\n",
              "       [0.40506132, 0.59493868],\n",
              "       [0.81908377, 0.18091623],\n",
              "       [0.70281743, 0.29718257],\n",
              "       [0.9925967 , 0.0074033 ],\n",
              "       [0.31177563, 0.68822437],\n",
              "       [0.94164668, 0.05835332],\n",
              "       [0.8997186 , 0.1002814 ],\n",
              "       [0.85907206, 0.14092794],\n",
              "       [0.64809629, 0.35190371],\n",
              "       [0.65101674, 0.34898326],\n",
              "       [0.4055264 , 0.5944736 ],\n",
              "       [0.94042108, 0.05957892],\n",
              "       [0.89473243, 0.10526757],\n",
              "       [0.32453694, 0.67546306],\n",
              "       [0.91835602, 0.08164398],\n",
              "       [0.96248797, 0.03751203],\n",
              "       [0.69647423, 0.30352577],\n",
              "       [0.52319792, 0.47680208],\n",
              "       [0.93271275, 0.06728725],\n",
              "       [0.21038738, 0.78961262],\n",
              "       [0.85425469, 0.14574531],\n",
              "       [0.07356451, 0.92643549],\n",
              "       [0.91656078, 0.08343922],\n",
              "       [0.59398381, 0.40601619],\n",
              "       [0.03687776, 0.96312224],\n",
              "       [0.924575  , 0.075425  ],\n",
              "       [0.99769473, 0.00230527],\n",
              "       [0.93269476, 0.06730524],\n",
              "       [0.93874663, 0.06125337],\n",
              "       [0.08954829, 0.91045171],\n",
              "       [0.93354571, 0.06645429],\n",
              "       [0.93269476, 0.06730524],\n",
              "       [0.89971931, 0.10028069],\n",
              "       [0.74485827, 0.25514173],\n",
              "       [0.32838821, 0.67161179],\n",
              "       [0.65589865, 0.34410135],\n",
              "       [0.89946958, 0.10053042],\n",
              "       [0.91274537, 0.08725463],\n",
              "       [0.29056837, 0.70943163],\n",
              "       [0.93252538, 0.06747462],\n",
              "       [0.481931  , 0.518069  ],\n",
              "       [0.95833823, 0.04166177],\n",
              "       [0.25067313, 0.74932687],\n",
              "       [0.92290084, 0.07709916],\n",
              "       [0.93271275, 0.06728725],\n",
              "       [0.4683095 , 0.5316905 ],\n",
              "       [0.63319124, 0.36680876],\n",
              "       [0.94736709, 0.05263291],\n",
              "       [0.28579664, 0.71420336],\n",
              "       [0.0359071 , 0.9640929 ],\n",
              "       [0.92724752, 0.07275248],\n",
              "       [0.93371079, 0.06628921],\n",
              "       [0.93373092, 0.06626908],\n",
              "       [0.67182845, 0.32817155],\n",
              "       [0.9456227 , 0.0543773 ],\n",
              "       [0.6315154 , 0.3684846 ],\n",
              "       [0.89054341, 0.10945659],\n",
              "       [0.85998909, 0.14001091],\n",
              "       [0.94959876, 0.05040124],\n",
              "       [0.8034041 , 0.1965959 ],\n",
              "       [0.93766381, 0.06233619],\n",
              "       [0.86368125, 0.13631875],\n",
              "       [0.66613479, 0.33386521],\n",
              "       [0.20781892, 0.79218108],\n",
              "       [0.35147241, 0.64852759],\n",
              "       [0.18716763, 0.81283237],\n",
              "       [0.79203359, 0.20796641],\n",
              "       [0.93271275, 0.06728725],\n",
              "       [0.7906747 , 0.2093253 ],\n",
              "       [0.07924924, 0.92075076],\n",
              "       [0.04275155, 0.95724845],\n",
              "       [0.14185968, 0.85814032],\n",
              "       [0.31917143, 0.68082857],\n",
              "       [0.99769473, 0.00230527],\n",
              "       [0.91656078, 0.08343922],\n",
              "       [0.92850364, 0.07149636],\n",
              "       [0.94734325, 0.05265675],\n",
              "       [0.3787535 , 0.6212465 ],\n",
              "       [0.44713753, 0.55286247],\n",
              "       [0.61619309, 0.38380691],\n",
              "       [0.04205515, 0.95794485],\n",
              "       [0.07543187, 0.92456813],\n",
              "       [0.78858319, 0.21141681],\n",
              "       [0.9439751 , 0.0560249 ],\n",
              "       [0.32281518, 0.67718482],\n",
              "       [0.10247093, 0.89752907],\n",
              "       [0.941487  , 0.058513  ],\n",
              "       [0.09189432, 0.90810568],\n",
              "       [0.34067329, 0.65932671],\n",
              "       [0.93272684, 0.06727316],\n",
              "       [0.38087349, 0.61912651],\n",
              "       [0.82386437, 0.17613563],\n",
              "       [0.93269476, 0.06730524],\n",
              "       [0.7359067 , 0.2640933 ],\n",
              "       [0.92630908, 0.07369092],\n",
              "       [0.32379379, 0.67620621],\n",
              "       [0.951942  , 0.048058  ],\n",
              "       [0.60389305, 0.39610695],\n",
              "       [0.27082848, 0.72917152],\n",
              "       [0.92681712, 0.07318288],\n",
              "       [0.93663949, 0.06336051],\n",
              "       [0.92639098, 0.07360902],\n",
              "       [0.94572893, 0.05427107],\n",
              "       [0.13027652, 0.86972348],\n",
              "       [0.8034041 , 0.1965959 ],\n",
              "       [0.87732209, 0.12267791],\n",
              "       [0.93252538, 0.06747462],\n",
              "       [0.31569017, 0.68430983],\n",
              "       [0.57858126, 0.42141874],\n",
              "       [0.96464245, 0.03535755],\n",
              "       [0.27592093, 0.72407907],\n",
              "       [0.30482323, 0.69517677],\n",
              "       [0.92681712, 0.07318288],\n",
              "       [0.91932743, 0.08067257],\n",
              "       [0.7183443 , 0.2816557 ],\n",
              "       [0.01505878, 0.98494122],\n",
              "       [0.73227113, 0.26772887],\n",
              "       [0.04589681, 0.95410319],\n",
              "       [0.95997299, 0.04002701],\n",
              "       [0.06836368, 0.93163632],\n",
              "       [0.59458082, 0.40541918],\n",
              "       [0.91656315, 0.08343685],\n",
              "       [0.90741252, 0.09258748],\n",
              "       [0.39518498, 0.60481502]])"
            ]
          },
          "metadata": {
            "tags": []
          },
          "execution_count": 53
        }
      ]
    },
    {
      "cell_type": "markdown",
      "metadata": {
        "id": "o7SgzXBijwSW",
        "colab_type": "text"
      },
      "source": [
        "- We need an evaluation metric in order to compare our predictions with the actual values."
      ]
    },
    {
      "cell_type": "markdown",
      "metadata": {
        "id": "hEZFKhCYjwSY",
        "colab_type": "text"
      },
      "source": [
        "<a id = section5></a>"
      ]
    },
    {
      "cell_type": "markdown",
      "metadata": {
        "id": "de8wVudDjwSZ",
        "colab_type": "text"
      },
      "source": [
        "## 5. Model evaluation "
      ]
    },
    {
      "cell_type": "markdown",
      "metadata": {
        "id": "2_Hr0SO2jwSZ",
        "colab_type": "text"
      },
      "source": [
        "__Error__ is the _deviation_ of the values _predicted_ by the model with the _true_ values.<br/>\n",
        "We will use __accuracy score __ and __confusion matrix__ for evaluation."
      ]
    },
    {
      "cell_type": "markdown",
      "metadata": {
        "id": "8kmEzbPsjwSb",
        "colab_type": "text"
      },
      "source": [
        "<a id=section501></a>"
      ]
    },
    {
      "cell_type": "markdown",
      "metadata": {
        "id": "V-nprNOFjwSd",
        "colab_type": "text"
      },
      "source": [
        "### 5.1 Model Evaluation using __accuracy classification score__"
      ]
    },
    {
      "cell_type": "code",
      "metadata": {
        "id": "KK3dIcXAjwSe",
        "colab_type": "code",
        "colab": {},
        "outputId": "58866028-f199-4b29-fdc6-85b8eb4586c6"
      },
      "source": [
        "from sklearn.metrics import accuracy_score\n",
        "print('Accuracy score for test data is:', accuracy_score(y_test,y_pred_test))"
      ],
      "execution_count": 0,
      "outputs": [
        {
          "output_type": "stream",
          "text": [
            "Accuracy score for test data is: 0.7932960893854749\n"
          ],
          "name": "stdout"
        }
      ]
    },
    {
      "cell_type": "markdown",
      "metadata": {
        "id": "1Rcz7SucjwSi",
        "colab_type": "text"
      },
      "source": [
        "<a id = section502></a>"
      ]
    },
    {
      "cell_type": "markdown",
      "metadata": {
        "id": "-KYV_2bAjwSj",
        "colab_type": "text"
      },
      "source": [
        "### 5.2 Model Evaluation using confusion matrix"
      ]
    },
    {
      "cell_type": "markdown",
      "metadata": {
        "id": "fPq5VJoEjwSk",
        "colab_type": "text"
      },
      "source": [
        "A __confusion matrix__ is a __summary__ of prediction results on a classification problem.\n",
        "\n",
        "The number of correct and incorrect predictions are summarized with count values and broken down by each class. <br/>\n",
        "Below is a diagram showing a general confusion matrix.\n",
        "![image.png](attachment:image.png)"
      ]
    },
    {
      "cell_type": "code",
      "metadata": {
        "id": "HOUQeGTljwSm",
        "colab_type": "code",
        "colab": {},
        "outputId": "f2ad2398-a4c4-456b-ca9b-5dbd626903ed"
      },
      "source": [
        "from sklearn.metrics import confusion_matrix\n",
        "\n",
        "confusion_matrix = pd.DataFrame(confusion_matrix(y_test, y_pred_test))\n",
        "\n",
        "print(confusion_matrix)"
      ],
      "execution_count": 0,
      "outputs": [
        {
          "output_type": "stream",
          "text": [
            "    0   1\n",
            "0  93  13\n",
            "1  24  49\n"
          ],
          "name": "stdout"
        }
      ]
    },
    {
      "cell_type": "code",
      "metadata": {
        "id": "jGYgvms_jwSq",
        "colab_type": "code",
        "colab": {},
        "outputId": "4649ace5-2bce-4f17-c124-4ec1f893c48d"
      },
      "source": [
        "confusion_matrix.index = ['Actual Died','Actual Survived']\n",
        "confusion_matrix.columns = ['Predicted Died','Predicted Survived']\n",
        "print(confusion_matrix)"
      ],
      "execution_count": 0,
      "outputs": [
        {
          "output_type": "stream",
          "text": [
            "                 Predicted Died  Predicted Survived\n",
            "Actual Died                  93                  13\n",
            "Actual Survived              24                  49\n"
          ],
          "name": "stdout"
        }
      ]
    },
    {
      "cell_type": "markdown",
      "metadata": {
        "id": "E-VhwksXjwSt",
        "colab_type": "text"
      },
      "source": [
        "This means 93 + 48 = __141 correct predictions__ & 25 + 13 = __38 false predictions__."
      ]
    },
    {
      "cell_type": "markdown",
      "metadata": {
        "id": "hEownYqIjwSu",
        "colab_type": "text"
      },
      "source": [
        "__Adjusting Threshold__ for predicting Died or Survived."
      ]
    },
    {
      "cell_type": "markdown",
      "metadata": {
        "id": "oKorHkALjwSw",
        "colab_type": "text"
      },
      "source": [
        "- In the section [4.7](#section4.7) we have used, __.predict__ method for classification. This method takes 0.5 as the default threshhod for prediction.<br/>\n",
        "- Now, we are going to see the impact of changing threshold on the accuracy of our logistic regression model. <br/>\n",
        "- For this we are going to use __.predict_proba__ method instead of using .predict method. "
      ]
    },
    {
      "cell_type": "markdown",
      "metadata": {
        "id": "nit2CW7hjwSw",
        "colab_type": "text"
      },
      "source": [
        "Setting the threshold to __0.75__"
      ]
    },
    {
      "cell_type": "code",
      "metadata": {
        "id": "vwlsCm4cjwSx",
        "colab_type": "code",
        "colab": {},
        "outputId": "72ee24f4-9daa-4eee-f3aa-891ef4b1a868"
      },
      "source": [
        "preds1 = np.where(logreg.predict_proba(X_test)[:,1]> 0.75,1,0)\n",
        "print('Accuracy score for test data is:', accuracy_score(y_test,preds1))"
      ],
      "execution_count": 0,
      "outputs": [
        {
          "output_type": "stream",
          "text": [
            "Accuracy score for test data is: 0.7374301675977654\n"
          ],
          "name": "stdout"
        }
      ]
    },
    {
      "cell_type": "markdown",
      "metadata": {
        "id": "YNpislxpjwSz",
        "colab_type": "text"
      },
      "source": [
        "The accuracy have been __reduced__ significantly changing from __0.79 to 0.73__. Hence, 0.75 is __not a good threshold__ for our model. "
      ]
    },
    {
      "cell_type": "markdown",
      "metadata": {
        "id": "Mu17tQXHjwS0",
        "colab_type": "text"
      },
      "source": [
        "Setting the threshold to __0.25__"
      ]
    },
    {
      "cell_type": "code",
      "metadata": {
        "id": "kNySUIckjwS1",
        "colab_type": "code",
        "colab": {},
        "outputId": "216be275-9ca6-4c52-b4f1-158e2374dde2"
      },
      "source": [
        "preds2 = np.where(logreg.predict_proba(X_test)[:,1]> 0.25,1,0)\n",
        "print('Accuracy score for test data is:', accuracy_score(y_test,preds2))"
      ],
      "execution_count": 0,
      "outputs": [
        {
          "output_type": "stream",
          "text": [
            "Accuracy score for test data is: 0.7486033519553073\n"
          ],
          "name": "stdout"
        }
      ]
    },
    {
      "cell_type": "markdown",
      "metadata": {
        "id": "8Z0VCcd_jwS-",
        "colab_type": "text"
      },
      "source": [
        "The accuracy have been __reduced__, changing from __0.79 to 0.75__. Hence, 0.25 is also __not a good threshold__ for our model. <br/>\n",
        "Later on we will see methods to identify the best threshold. "
      ]
    }
  ]
}