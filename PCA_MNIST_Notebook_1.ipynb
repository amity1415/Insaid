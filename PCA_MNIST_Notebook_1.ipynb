{
  "nbformat": 4,
  "nbformat_minor": 0,
  "metadata": {
    "colab": {
      "name": "Untitled7.ipynb",
      "provenance": [],
      "authorship_tag": "ABX9TyPLLVHLm5po4MyMEPrV+TTJ",
      "include_colab_link": true
    },
    "kernelspec": {
      "name": "python3",
      "display_name": "Python 3"
    }
  },
  "cells": [
    {
      "cell_type": "markdown",
      "metadata": {
        "id": "view-in-github",
        "colab_type": "text"
      },
      "source": [
        "<a href=\"https://colab.research.google.com/github/amity1415/Insaid/blob/master/PCA_MNIST_Notebook_1.ipynb\" target=\"_parent\"><img src=\"https://colab.research.google.com/assets/colab-badge.svg\" alt=\"Open In Colab\"/></a>"
      ]
    },
    {
      "cell_type": "code",
      "metadata": {
        "id": "ZmIYBK9atH1o",
        "colab_type": "code",
        "colab": {
          "base_uri": "https://localhost:8080/",
          "height": 300
        },
        "outputId": "65f7d60e-5589-48bf-87c9-0887b4ec408c"
      },
      "source": [
        "\n",
        "\n",
        "import sklearn\n",
        "import numpy as np\n",
        "import pandas as pd\n",
        "import matplotlib\n",
        "import matplotlib.pyplot as plt\n",
        "%matplotlib inline\n",
        "import mlxtend.data\n",
        "from mlxtend.data import loadlocal_mnist\n",
        "from sklearn.datasets import fetch_openml\n",
        "\n",
        "mnist= fetch_openml('mnist_784')\n",
        "X,y= mnist['data'], mnist['target']\t\n",
        "\n",
        "digit_test= X[1]\n",
        "print(digit_test.shape) ##the digit is in a single Row with 784 cols.\n",
        "digit_test_image= digit_test.reshape(28,28)## Reshaping it to 28*28\n",
        "\n",
        "plt.imshow(digit_test_image, cmap=matplotlib.cm.binary, interpolation='nearest')"
      ],
      "execution_count": 173,
      "outputs": [
        {
          "output_type": "stream",
          "text": [
            "(784,)\n"
          ],
          "name": "stdout"
        },
        {
          "output_type": "execute_result",
          "data": {
            "text/plain": [
              "<matplotlib.image.AxesImage at 0x7f08acb23400>"
            ]
          },
          "metadata": {
            "tags": []
          },
          "execution_count": 173
        },
        {
          "output_type": "display_data",
          "data": {
            "image/png": "[encoded data removed]",
            "text/plain": [
              "<Figure size 432x288 with 1 Axes>"
            ]
          },
          "metadata": {
            "tags": [],
            "needs_background": "light"
          }
        }
      ]
    },
    {
      "cell_type": "code",
      "metadata": {
        "id": "DVrytx4s20aB",
        "colab_type": "code",
        "colab": {
          "base_uri": "https://localhost:8080/",
          "height": 34
        },
        "outputId": "a36b08fd-bd1f-497d-8ed7-d7335a98f2b2"
      },
      "source": [
        "type(digit_test)"
      ],
      "execution_count": 174,
      "outputs": [
        {
          "output_type": "execute_result",
          "data": {
            "text/plain": [
              "numpy.ndarray"
            ]
          },
          "metadata": {
            "tags": []
          },
          "execution_count": 174
        }
      ]
    },
    {
      "cell_type": "code",
      "metadata": {
        "id": "yTFMPRq_ce8D",
        "colab_type": "code",
        "colab": {
          "base_uri": "https://localhost:8080/",
          "height": 34
        },
        "outputId": "c1c747ff-fc8c-4188-d049-17744571b89a"
      },
      "source": [
        "y[1]"
      ],
      "execution_count": 175,
      "outputs": [
        {
          "output_type": "execute_result",
          "data": {
            "application/vnd.google.colaboratory.intrinsic+json": {
              "type": "string"
            },
            "text/plain": [
              "'0'"
            ]
          },
          "metadata": {
            "tags": []
          },
          "execution_count": 175
        }
      ]
    },
    {
      "cell_type": "code",
      "metadata": {
        "id": "SwQqby_ddbmM",
        "colab_type": "code",
        "colab": {}
      },
      "source": [
        "from sklearn.preprocessing import StandardScaler\n",
        "x = StandardScaler().fit_transform(X)\n",
        "# ensure to understand its importance"
      ],
      "execution_count": 176,
      "outputs": []
    },
    {
      "cell_type": "code",
      "metadata": {
        "id": "haoe0GWZrQPY",
        "colab_type": "code",
        "colab": {}
      },
      "source": [
        "# Let us view entire possible transformtion for df under consideration\n",
        "from sklearn.decomposition import PCA\n",
        "pca = PCA(n_components = .5)\n",
        "principalComponents = pca.fit_transform(x)\n"
      ],
      "execution_count": 177,
      "outputs": []
    },
    {
      "cell_type": "code",
      "metadata": {
        "id": "S_bsVMRM3bcu",
        "colab_type": "code",
        "colab": {
          "base_uri": "https://localhost:8080/",
          "height": 34
        },
        "outputId": "ed7fb04e-402c-4617-e7d6-c9306bcf13cc"
      },
      "source": [
        "type(principalComponents)"
      ],
      "execution_count": 178,
      "outputs": [
        {
          "output_type": "execute_result",
          "data": {
            "text/plain": [
              "numpy.ndarray"
            ]
          },
          "metadata": {
            "tags": []
          },
          "execution_count": 178
        }
      ]
    },
    {
      "cell_type": "code",
      "metadata": {
        "id": "BqsXXciosCf2",
        "colab_type": "code",
        "colab": {
          "base_uri": "https://localhost:8080/",
          "height": 222
        },
        "outputId": "ac49f222-dee1-4882-90df-b9c041f4dbd4"
      },
      "source": [
        "PC_df = pd.DataFrame(data = principalComponents)\n",
        "PC_df.head()\n",
        "\n"
      ],
      "execution_count": 179,
      "outputs": [
        {
          "output_type": "execute_result",
          "data": {
            "text/html": [
              "<div>\n",
              "<style scoped>\n",
              "    .dataframe tbody tr th:only-of-type {\n",
              "        vertical-align: middle;\n",
              "    }\n",
              "\n",
              "    .dataframe tbody tr th {\n",
              "        vertical-align: top;\n",
              "    }\n",
              "\n",
              "    .dataframe thead th {\n",
              "        text-align: right;\n",
              "    }\n",
              "</style>\n",
              "<table border=\"1\" class=\"dataframe\">\n",
              "  <thead>\n",
              "    <tr style=\"text-align: right;\">\n",
              "      <th></th>\n",
              "      <th>0</th>\n",
              "      <th>1</th>\n",
              "      <th>2</th>\n",
              "      <th>3</th>\n",
              "      <th>4</th>\n",
              "      <th>5</th>\n",
              "      <th>6</th>\n",
              "      <th>7</th>\n",
              "      <th>8</th>\n",
              "      <th>9</th>\n",
              "      <th>10</th>\n",
              "      <th>11</th>\n",
              "      <th>12</th>\n",
              "      <th>13</th>\n",
              "      <th>14</th>\n",
              "      <th>15</th>\n",
              "      <th>16</th>\n",
              "      <th>17</th>\n",
              "      <th>18</th>\n",
              "      <th>19</th>\n",
              "      <th>20</th>\n",
              "      <th>21</th>\n",
              "      <th>22</th>\n",
              "      <th>23</th>\n",
              "      <th>24</th>\n",
              "      <th>25</th>\n",
              "      <th>26</th>\n",
              "      <th>27</th>\n",
              "      <th>28</th>\n",
              "      <th>29</th>\n",
              "      <th>30</th>\n",
              "      <th>31</th>\n",
              "      <th>32</th>\n",
              "      <th>33</th>\n",
              "      <th>34</th>\n",
              "      <th>35</th>\n",
              "      <th>36</th>\n",
              "      <th>37</th>\n",
              "      <th>38</th>\n",
              "    </tr>\n",
              "  </thead>\n",
              "  <tbody>\n",
              "    <tr>\n",
              "      <th>0</th>\n",
              "      <td>-0.891720</td>\n",
              "      <td>-4.929711</td>\n",
              "      <td>-0.093038</td>\n",
              "      <td>-8.064180</td>\n",
              "      <td>-0.751001</td>\n",
              "      <td>1.051980</td>\n",
              "      <td>0.283377</td>\n",
              "      <td>1.423696</td>\n",
              "      <td>-1.168523</td>\n",
              "      <td>2.406929</td>\n",
              "      <td>-1.330609</td>\n",
              "      <td>3.269546</td>\n",
              "      <td>3.022839</td>\n",
              "      <td>8.888603</td>\n",
              "      <td>-4.128878</td>\n",
              "      <td>2.254652</td>\n",
              "      <td>8.303377</td>\n",
              "      <td>-4.134214</td>\n",
              "      <td>4.402143</td>\n",
              "      <td>3.921384</td>\n",
              "      <td>-5.164933</td>\n",
              "      <td>0.260673</td>\n",
              "      <td>-2.431289</td>\n",
              "      <td>-2.781884</td>\n",
              "      <td>-2.212005</td>\n",
              "      <td>-2.672388</td>\n",
              "      <td>1.294495</td>\n",
              "      <td>5.017080</td>\n",
              "      <td>0.364979</td>\n",
              "      <td>-0.103957</td>\n",
              "      <td>-3.146816</td>\n",
              "      <td>1.711779</td>\n",
              "      <td>2.128689</td>\n",
              "      <td>2.107822</td>\n",
              "      <td>0.619344</td>\n",
              "      <td>-5.025392</td>\n",
              "      <td>0.864514</td>\n",
              "      <td>0.060800</td>\n",
              "      <td>0.883865</td>\n",
              "    </tr>\n",
              "    <tr>\n",
              "      <th>1</th>\n",
              "      <td>8.813530</td>\n",
              "      <td>-7.517560</td>\n",
              "      <td>-3.714185</td>\n",
              "      <td>-1.766171</td>\n",
              "      <td>0.891472</td>\n",
              "      <td>-5.107950</td>\n",
              "      <td>-0.134795</td>\n",
              "      <td>3.197223</td>\n",
              "      <td>-0.238224</td>\n",
              "      <td>-1.003382</td>\n",
              "      <td>-3.349344</td>\n",
              "      <td>-1.254795</td>\n",
              "      <td>-2.411946</td>\n",
              "      <td>-3.919341</td>\n",
              "      <td>-3.027826</td>\n",
              "      <td>-1.176719</td>\n",
              "      <td>-0.037599</td>\n",
              "      <td>1.468827</td>\n",
              "      <td>3.165507</td>\n",
              "      <td>0.936482</td>\n",
              "      <td>-3.624515</td>\n",
              "      <td>-1.837798</td>\n",
              "      <td>2.539826</td>\n",
              "      <td>0.077271</td>\n",
              "      <td>-1.914550</td>\n",
              "      <td>-0.119093</td>\n",
              "      <td>-1.706681</td>\n",
              "      <td>0.075744</td>\n",
              "      <td>-0.342225</td>\n",
              "      <td>0.260514</td>\n",
              "      <td>1.022326</td>\n",
              "      <td>1.606968</td>\n",
              "      <td>1.567860</td>\n",
              "      <td>-3.660889</td>\n",
              "      <td>-0.894668</td>\n",
              "      <td>-0.008198</td>\n",
              "      <td>-0.948927</td>\n",
              "      <td>-1.184021</td>\n",
              "      <td>0.882179</td>\n",
              "    </tr>\n",
              "    <tr>\n",
              "      <th>2</th>\n",
              "      <td>2.204835</td>\n",
              "      <td>9.824461</td>\n",
              "      <td>-5.752488</td>\n",
              "      <td>1.479673</td>\n",
              "      <td>4.397900</td>\n",
              "      <td>2.507393</td>\n",
              "      <td>18.927843</td>\n",
              "      <td>3.888938</td>\n",
              "      <td>2.443365</td>\n",
              "      <td>-0.145296</td>\n",
              "      <td>-7.377445</td>\n",
              "      <td>2.023420</td>\n",
              "      <td>0.683597</td>\n",
              "      <td>-0.330238</td>\n",
              "      <td>12.261370</td>\n",
              "      <td>9.560811</td>\n",
              "      <td>-4.691458</td>\n",
              "      <td>4.208711</td>\n",
              "      <td>4.465518</td>\n",
              "      <td>4.835956</td>\n",
              "      <td>9.232379</td>\n",
              "      <td>1.210316</td>\n",
              "      <td>-0.253012</td>\n",
              "      <td>-7.499449</td>\n",
              "      <td>-0.765113</td>\n",
              "      <td>-0.255858</td>\n",
              "      <td>3.207874</td>\n",
              "      <td>9.844513</td>\n",
              "      <td>2.167533</td>\n",
              "      <td>2.955643</td>\n",
              "      <td>-3.492020</td>\n",
              "      <td>3.398431</td>\n",
              "      <td>0.952555</td>\n",
              "      <td>-5.161981</td>\n",
              "      <td>0.233282</td>\n",
              "      <td>0.227608</td>\n",
              "      <td>-0.509848</td>\n",
              "      <td>-0.943464</td>\n",
              "      <td>-0.325656</td>\n",
              "    </tr>\n",
              "    <tr>\n",
              "      <th>3</th>\n",
              "      <td>-6.534627</td>\n",
              "      <td>-4.029669</td>\n",
              "      <td>3.524017</td>\n",
              "      <td>-0.218098</td>\n",
              "      <td>5.606259</td>\n",
              "      <td>3.493731</td>\n",
              "      <td>1.445046</td>\n",
              "      <td>-4.683887</td>\n",
              "      <td>-0.613930</td>\n",
              "      <td>-2.533648</td>\n",
              "      <td>-2.276405</td>\n",
              "      <td>3.849409</td>\n",
              "      <td>-0.036696</td>\n",
              "      <td>-3.844612</td>\n",
              "      <td>-0.951812</td>\n",
              "      <td>2.209973</td>\n",
              "      <td>-0.917823</td>\n",
              "      <td>1.564761</td>\n",
              "      <td>-0.131848</td>\n",
              "      <td>-0.155584</td>\n",
              "      <td>-1.819958</td>\n",
              "      <td>-0.547340</td>\n",
              "      <td>-1.036494</td>\n",
              "      <td>-1.961018</td>\n",
              "      <td>1.536018</td>\n",
              "      <td>0.917744</td>\n",
              "      <td>-1.367578</td>\n",
              "      <td>-0.639071</td>\n",
              "      <td>0.991479</td>\n",
              "      <td>-1.049006</td>\n",
              "      <td>-0.348834</td>\n",
              "      <td>-1.436073</td>\n",
              "      <td>-0.542291</td>\n",
              "      <td>-1.614674</td>\n",
              "      <td>1.271152</td>\n",
              "      <td>-0.859385</td>\n",
              "      <td>-0.063320</td>\n",
              "      <td>0.016637</td>\n",
              "      <td>0.580517</td>\n",
              "    </tr>\n",
              "    <tr>\n",
              "      <th>4</th>\n",
              "      <td>-5.251618</td>\n",
              "      <td>3.278848</td>\n",
              "      <td>-6.182219</td>\n",
              "      <td>1.462658</td>\n",
              "      <td>-1.667989</td>\n",
              "      <td>-0.580801</td>\n",
              "      <td>-0.565828</td>\n",
              "      <td>-3.129538</td>\n",
              "      <td>0.005915</td>\n",
              "      <td>-0.972611</td>\n",
              "      <td>4.690669</td>\n",
              "      <td>0.145346</td>\n",
              "      <td>0.236667</td>\n",
              "      <td>-1.990848</td>\n",
              "      <td>-1.743585</td>\n",
              "      <td>-0.877407</td>\n",
              "      <td>-1.752464</td>\n",
              "      <td>5.607420</td>\n",
              "      <td>0.249852</td>\n",
              "      <td>1.955801</td>\n",
              "      <td>-0.892523</td>\n",
              "      <td>-0.189549</td>\n",
              "      <td>-0.780645</td>\n",
              "      <td>1.477916</td>\n",
              "      <td>-4.034878</td>\n",
              "      <td>-1.375146</td>\n",
              "      <td>-0.483954</td>\n",
              "      <td>-1.224623</td>\n",
              "      <td>-0.765716</td>\n",
              "      <td>-0.119686</td>\n",
              "      <td>0.582360</td>\n",
              "      <td>1.932977</td>\n",
              "      <td>2.551989</td>\n",
              "      <td>-0.907934</td>\n",
              "      <td>-3.326028</td>\n",
              "      <td>3.304077</td>\n",
              "      <td>0.221052</td>\n",
              "      <td>-1.603824</td>\n",
              "      <td>-0.236674</td>\n",
              "    </tr>\n",
              "  </tbody>\n",
              "</table>\n",
              "</div>"
            ],
            "text/plain": [
              "         0         1         2   ...        36        37        38\n",
              "0 -0.891720 -4.929711 -0.093038  ...  0.864514  0.060800  0.883865\n",
              "1  8.813530 -7.517560 -3.714185  ... -0.948927 -1.184021  0.882179\n",
              "2  2.204835  9.824461 -5.752488  ... -0.509848 -0.943464 -0.325656\n",
              "3 -6.534627 -4.029669  3.524017  ... -0.063320  0.016637  0.580517\n",
              "4 -5.251618  3.278848 -6.182219  ...  0.221052 -1.603824 -0.236674\n",
              "\n",
              "[5 rows x 39 columns]"
            ]
          },
          "metadata": {
            "tags": []
          },
          "execution_count": 179
        }
      ]
    },
    {
      "cell_type": "code",
      "metadata": {
        "id": "EL58z82ysH13",
        "colab_type": "code",
        "colab": {
          "base_uri": "https://localhost:8080/",
          "height": 34
        },
        "outputId": "a26d1210-39d1-4c07-de18-aadcefa69af0"
      },
      "source": [
        "PC_df.shape ##39 Columns define 50% of the Image. (784 Columns define 100 Percent)"
      ],
      "execution_count": 180,
      "outputs": [
        {
          "output_type": "execute_result",
          "data": {
            "text/plain": [
              "(70000, 39)"
            ]
          },
          "metadata": {
            "tags": []
          },
          "execution_count": 180
        }
      ]
    },
    {
      "cell_type": "code",
      "metadata": {
        "id": "DRxCNnIz0Y9c",
        "colab_type": "code",
        "colab": {}
      },
      "source": [
        "principalComponents_Inverse= pca.inverse_transform(principalComponents) ##Performing Inverse Transform to get back the Original Set of Data from the Dimentionally Reduced data.\n",
        "#We will get back to the original columns and try to generate its original values(approx) from the 50% PCA defined columns. (39 Columns)"
      ],
      "execution_count": 181,
      "outputs": []
    },
    {
      "cell_type": "code",
      "metadata": {
        "id": "JcU_2xCX5MzA",
        "colab_type": "code",
        "colab": {
          "base_uri": "https://localhost:8080/",
          "height": 34
        },
        "outputId": "efa6e7cb-8ff0-491d-d1ac-3d7c680a901a"
      },
      "source": [
        "type(principalComponents_Inverse)"
      ],
      "execution_count": 182,
      "outputs": [
        {
          "output_type": "execute_result",
          "data": {
            "text/plain": [
              "numpy.ndarray"
            ]
          },
          "metadata": {
            "tags": []
          },
          "execution_count": 182
        }
      ]
    },
    {
      "cell_type": "code",
      "metadata": {
        "id": "AUL_qAtn5P6-",
        "colab_type": "code",
        "colab": {
          "base_uri": "https://localhost:8080/",
          "height": 34
        },
        "outputId": "b913f1c1-7ffc-40cd-f826-5d4ce35ce347"
      },
      "source": [
        "principalComponents_Inverse.shape"
      ],
      "execution_count": 183,
      "outputs": [
        {
          "output_type": "execute_result",
          "data": {
            "text/plain": [
              "(70000, 784)"
            ]
          },
          "metadata": {
            "tags": []
          },
          "execution_count": 183
        }
      ]
    },
    {
      "cell_type": "code",
      "metadata": {
        "id": "b7kJwAYCrTHf",
        "colab_type": "code",
        "colab": {
          "base_uri": "https://localhost:8080/",
          "height": 338
        },
        "outputId": "73506c65-274b-4887-f1ae-085f9801150f"
      },
      "source": [
        "\n",
        "PC_df_Inverse = pd.DataFrame(data = principalComponents_Inverse)##Setting the NDarray to a dataframe.\n",
        "PC_df_Inverse.head()"
      ],
      "execution_count": 184,
      "outputs": [
        {
          "output_type": "execute_result",
          "data": {
            "text/html": [
              "<div>\n",
              "<style scoped>\n",
              "    .dataframe tbody tr th:only-of-type {\n",
              "        vertical-align: middle;\n",
              "    }\n",
              "\n",
              "    .dataframe tbody tr th {\n",
              "        vertical-align: top;\n",
              "    }\n",
              "\n",
              "    .dataframe thead th {\n",
              "        text-align: right;\n",
              "    }\n",
              "</style>\n",
              "<table border=\"1\" class=\"dataframe\">\n",
              "  <thead>\n",
              "    <tr style=\"text-align: right;\">\n",
              "      <th></th>\n",
              "      <th>0</th>\n",
              "      <th>1</th>\n",
              "      <th>2</th>\n",
              "      <th>3</th>\n",
              "      <th>4</th>\n",
              "      <th>5</th>\n",
              "      <th>6</th>\n",
              "      <th>7</th>\n",
              "      <th>8</th>\n",
              "      <th>9</th>\n",
              "      <th>10</th>\n",
              "      <th>11</th>\n",
              "      <th>12</th>\n",
              "      <th>13</th>\n",
              "      <th>14</th>\n",
              "      <th>15</th>\n",
              "      <th>16</th>\n",
              "      <th>17</th>\n",
              "      <th>18</th>\n",
              "      <th>19</th>\n",
              "      <th>20</th>\n",
              "      <th>21</th>\n",
              "      <th>22</th>\n",
              "      <th>23</th>\n",
              "      <th>24</th>\n",
              "      <th>25</th>\n",
              "      <th>26</th>\n",
              "      <th>27</th>\n",
              "      <th>28</th>\n",
              "      <th>29</th>\n",
              "      <th>30</th>\n",
              "      <th>31</th>\n",
              "      <th>32</th>\n",
              "      <th>33</th>\n",
              "      <th>34</th>\n",
              "      <th>35</th>\n",
              "      <th>36</th>\n",
              "      <th>37</th>\n",
              "      <th>38</th>\n",
              "      <th>39</th>\n",
              "      <th>...</th>\n",
              "      <th>744</th>\n",
              "      <th>745</th>\n",
              "      <th>746</th>\n",
              "      <th>747</th>\n",
              "      <th>748</th>\n",
              "      <th>749</th>\n",
              "      <th>750</th>\n",
              "      <th>751</th>\n",
              "      <th>752</th>\n",
              "      <th>753</th>\n",
              "      <th>754</th>\n",
              "      <th>755</th>\n",
              "      <th>756</th>\n",
              "      <th>757</th>\n",
              "      <th>758</th>\n",
              "      <th>759</th>\n",
              "      <th>760</th>\n",
              "      <th>761</th>\n",
              "      <th>762</th>\n",
              "      <th>763</th>\n",
              "      <th>764</th>\n",
              "      <th>765</th>\n",
              "      <th>766</th>\n",
              "      <th>767</th>\n",
              "      <th>768</th>\n",
              "      <th>769</th>\n",
              "      <th>770</th>\n",
              "      <th>771</th>\n",
              "      <th>772</th>\n",
              "      <th>773</th>\n",
              "      <th>774</th>\n",
              "      <th>775</th>\n",
              "      <th>776</th>\n",
              "      <th>777</th>\n",
              "      <th>778</th>\n",
              "      <th>779</th>\n",
              "      <th>780</th>\n",
              "      <th>781</th>\n",
              "      <th>782</th>\n",
              "      <th>783</th>\n",
              "    </tr>\n",
              "  </thead>\n",
              "  <tbody>\n",
              "    <tr>\n",
              "      <th>0</th>\n",
              "      <td>1.035613e-16</td>\n",
              "      <td>4.400768e-15</td>\n",
              "      <td>2.663886e-15</td>\n",
              "      <td>5.887276e-16</td>\n",
              "      <td>1.242971e-15</td>\n",
              "      <td>2.696106e-15</td>\n",
              "      <td>-2.459903e-15</td>\n",
              "      <td>1.260673e-15</td>\n",
              "      <td>-5.286268e-16</td>\n",
              "      <td>-1.865591e-16</td>\n",
              "      <td>3.182399e-16</td>\n",
              "      <td>4.514169e-16</td>\n",
              "      <td>-0.004629</td>\n",
              "      <td>-0.020283</td>\n",
              "      <td>-0.028761</td>\n",
              "      <td>-0.028761</td>\n",
              "      <td>2.783282e-16</td>\n",
              "      <td>-3.962262e-16</td>\n",
              "      <td>-9.318272e-16</td>\n",
              "      <td>-1.223510e-15</td>\n",
              "      <td>1.477634e-15</td>\n",
              "      <td>-1.726687e-16</td>\n",
              "      <td>3.909479e-16</td>\n",
              "      <td>-6.359353e-16</td>\n",
              "      <td>9.782189e-19</td>\n",
              "      <td>5.083275e-17</td>\n",
              "      <td>8.256801e-16</td>\n",
              "      <td>-3.647854e-16</td>\n",
              "      <td>-1.712423e-15</td>\n",
              "      <td>4.370231e-16</td>\n",
              "      <td>6.926936e-16</td>\n",
              "      <td>1.675471e-16</td>\n",
              "      <td>0.009961</td>\n",
              "      <td>0.006021</td>\n",
              "      <td>-0.012817</td>\n",
              "      <td>0.002633</td>\n",
              "      <td>0.072241</td>\n",
              "      <td>0.137072</td>\n",
              "      <td>0.188174</td>\n",
              "      <td>0.189381</td>\n",
              "      <td>...</td>\n",
              "      <td>-0.890623</td>\n",
              "      <td>-0.513150</td>\n",
              "      <td>0.024016</td>\n",
              "      <td>0.346125</td>\n",
              "      <td>0.294922</td>\n",
              "      <td>0.020345</td>\n",
              "      <td>-0.233300</td>\n",
              "      <td>-0.228859</td>\n",
              "      <td>-0.183888</td>\n",
              "      <td>0.097734</td>\n",
              "      <td>0.0</td>\n",
              "      <td>0.0</td>\n",
              "      <td>0.0</td>\n",
              "      <td>0.0</td>\n",
              "      <td>0.0</td>\n",
              "      <td>0.0</td>\n",
              "      <td>0.399848</td>\n",
              "      <td>0.433918</td>\n",
              "      <td>0.279627</td>\n",
              "      <td>-0.125057</td>\n",
              "      <td>-0.336782</td>\n",
              "      <td>-0.445901</td>\n",
              "      <td>-0.440983</td>\n",
              "      <td>-0.323203</td>\n",
              "      <td>-0.232024</td>\n",
              "      <td>-0.308569</td>\n",
              "      <td>-0.567473</td>\n",
              "      <td>-0.764575</td>\n",
              "      <td>-0.752849</td>\n",
              "      <td>-0.474551</td>\n",
              "      <td>-0.125341</td>\n",
              "      <td>0.093542</td>\n",
              "      <td>0.093202</td>\n",
              "      <td>-0.057122</td>\n",
              "      <td>-0.207498</td>\n",
              "      <td>-0.198715</td>\n",
              "      <td>0.0</td>\n",
              "      <td>0.0</td>\n",
              "      <td>0.0</td>\n",
              "      <td>0.0</td>\n",
              "    </tr>\n",
              "    <tr>\n",
              "      <th>1</th>\n",
              "      <td>5.600734e-19</td>\n",
              "      <td>9.083370e-16</td>\n",
              "      <td>-1.756079e-15</td>\n",
              "      <td>8.410881e-17</td>\n",
              "      <td>-9.677532e-16</td>\n",
              "      <td>-1.042278e-15</td>\n",
              "      <td>8.201796e-16</td>\n",
              "      <td>1.248241e-15</td>\n",
              "      <td>-1.146804e-16</td>\n",
              "      <td>9.055710e-17</td>\n",
              "      <td>1.598897e-15</td>\n",
              "      <td>-3.480588e-16</td>\n",
              "      <td>-0.017568</td>\n",
              "      <td>-0.051816</td>\n",
              "      <td>-0.065933</td>\n",
              "      <td>-0.065933</td>\n",
              "      <td>1.270180e-16</td>\n",
              "      <td>2.797753e-16</td>\n",
              "      <td>-4.859293e-16</td>\n",
              "      <td>9.762356e-16</td>\n",
              "      <td>8.085562e-16</td>\n",
              "      <td>-1.448279e-16</td>\n",
              "      <td>3.074507e-16</td>\n",
              "      <td>8.001325e-16</td>\n",
              "      <td>4.038204e-16</td>\n",
              "      <td>4.560872e-16</td>\n",
              "      <td>-9.031471e-16</td>\n",
              "      <td>-2.442920e-16</td>\n",
              "      <td>1.774017e-15</td>\n",
              "      <td>-5.394424e-16</td>\n",
              "      <td>-9.875623e-16</td>\n",
              "      <td>-5.102697e-17</td>\n",
              "      <td>-0.002217</td>\n",
              "      <td>-0.000126</td>\n",
              "      <td>0.001161</td>\n",
              "      <td>0.016347</td>\n",
              "      <td>0.069077</td>\n",
              "      <td>0.119810</td>\n",
              "      <td>0.153848</td>\n",
              "      <td>0.162620</td>\n",
              "      <td>...</td>\n",
              "      <td>0.147802</td>\n",
              "      <td>0.198514</td>\n",
              "      <td>0.177287</td>\n",
              "      <td>0.122764</td>\n",
              "      <td>0.087584</td>\n",
              "      <td>0.074836</td>\n",
              "      <td>0.035232</td>\n",
              "      <td>-0.029206</td>\n",
              "      <td>-0.092163</td>\n",
              "      <td>-0.000881</td>\n",
              "      <td>0.0</td>\n",
              "      <td>0.0</td>\n",
              "      <td>0.0</td>\n",
              "      <td>0.0</td>\n",
              "      <td>0.0</td>\n",
              "      <td>0.0</td>\n",
              "      <td>-0.026529</td>\n",
              "      <td>-0.010549</td>\n",
              "      <td>0.010925</td>\n",
              "      <td>0.009684</td>\n",
              "      <td>-0.001940</td>\n",
              "      <td>-0.064768</td>\n",
              "      <td>-0.189871</td>\n",
              "      <td>-0.265105</td>\n",
              "      <td>-0.284500</td>\n",
              "      <td>-0.240633</td>\n",
              "      <td>-0.144245</td>\n",
              "      <td>-0.052264</td>\n",
              "      <td>0.035414</td>\n",
              "      <td>0.095007</td>\n",
              "      <td>0.093712</td>\n",
              "      <td>0.079458</td>\n",
              "      <td>0.062006</td>\n",
              "      <td>0.055707</td>\n",
              "      <td>0.047325</td>\n",
              "      <td>0.036442</td>\n",
              "      <td>0.0</td>\n",
              "      <td>0.0</td>\n",
              "      <td>0.0</td>\n",
              "      <td>0.0</td>\n",
              "    </tr>\n",
              "    <tr>\n",
              "      <th>2</th>\n",
              "      <td>4.577915e-18</td>\n",
              "      <td>-2.109546e-16</td>\n",
              "      <td>3.537270e-15</td>\n",
              "      <td>1.664417e-15</td>\n",
              "      <td>8.443615e-16</td>\n",
              "      <td>-1.787225e-15</td>\n",
              "      <td>-3.708183e-15</td>\n",
              "      <td>1.367780e-15</td>\n",
              "      <td>6.896886e-16</td>\n",
              "      <td>3.754501e-16</td>\n",
              "      <td>9.064662e-16</td>\n",
              "      <td>1.014449e-16</td>\n",
              "      <td>0.061449</td>\n",
              "      <td>0.084869</td>\n",
              "      <td>0.065076</td>\n",
              "      <td>0.065076</td>\n",
              "      <td>3.147311e-15</td>\n",
              "      <td>-4.107510e-15</td>\n",
              "      <td>1.123924e-15</td>\n",
              "      <td>-1.828664e-15</td>\n",
              "      <td>-3.974786e-15</td>\n",
              "      <td>2.932235e-16</td>\n",
              "      <td>-7.011108e-16</td>\n",
              "      <td>1.990939e-16</td>\n",
              "      <td>-2.659410e-16</td>\n",
              "      <td>2.551243e-16</td>\n",
              "      <td>1.859412e-15</td>\n",
              "      <td>-9.859359e-16</td>\n",
              "      <td>3.584679e-16</td>\n",
              "      <td>-2.342633e-15</td>\n",
              "      <td>5.939265e-17</td>\n",
              "      <td>-1.798232e-15</td>\n",
              "      <td>-0.054366</td>\n",
              "      <td>-0.311972</td>\n",
              "      <td>-0.697852</td>\n",
              "      <td>-0.802337</td>\n",
              "      <td>-0.725216</td>\n",
              "      <td>-0.639103</td>\n",
              "      <td>-0.330847</td>\n",
              "      <td>-0.097417</td>\n",
              "      <td>...</td>\n",
              "      <td>0.292840</td>\n",
              "      <td>0.768679</td>\n",
              "      <td>1.102755</td>\n",
              "      <td>1.195473</td>\n",
              "      <td>1.063125</td>\n",
              "      <td>0.674001</td>\n",
              "      <td>0.095017</td>\n",
              "      <td>-0.311319</td>\n",
              "      <td>-0.482086</td>\n",
              "      <td>-0.029507</td>\n",
              "      <td>0.0</td>\n",
              "      <td>0.0</td>\n",
              "      <td>0.0</td>\n",
              "      <td>0.0</td>\n",
              "      <td>0.0</td>\n",
              "      <td>0.0</td>\n",
              "      <td>-0.115411</td>\n",
              "      <td>-0.107125</td>\n",
              "      <td>-0.181523</td>\n",
              "      <td>-0.253322</td>\n",
              "      <td>-0.280150</td>\n",
              "      <td>-0.383424</td>\n",
              "      <td>-0.482229</td>\n",
              "      <td>-0.452758</td>\n",
              "      <td>-0.482899</td>\n",
              "      <td>-0.476426</td>\n",
              "      <td>-0.304074</td>\n",
              "      <td>0.064299</td>\n",
              "      <td>0.704090</td>\n",
              "      <td>1.156160</td>\n",
              "      <td>1.299197</td>\n",
              "      <td>1.072177</td>\n",
              "      <td>0.801503</td>\n",
              "      <td>0.411316</td>\n",
              "      <td>0.101044</td>\n",
              "      <td>-0.127326</td>\n",
              "      <td>0.0</td>\n",
              "      <td>0.0</td>\n",
              "      <td>0.0</td>\n",
              "      <td>0.0</td>\n",
              "    </tr>\n",
              "    <tr>\n",
              "      <th>3</th>\n",
              "      <td>-4.475415e-18</td>\n",
              "      <td>6.187728e-16</td>\n",
              "      <td>-2.072949e-15</td>\n",
              "      <td>-1.274094e-15</td>\n",
              "      <td>-1.418996e-15</td>\n",
              "      <td>-1.116013e-15</td>\n",
              "      <td>-4.928126e-16</td>\n",
              "      <td>3.456258e-16</td>\n",
              "      <td>-7.480408e-16</td>\n",
              "      <td>-7.902048e-16</td>\n",
              "      <td>-5.687986e-16</td>\n",
              "      <td>7.722513e-17</td>\n",
              "      <td>0.058369</td>\n",
              "      <td>0.084355</td>\n",
              "      <td>0.068238</td>\n",
              "      <td>0.068238</td>\n",
              "      <td>2.926877e-16</td>\n",
              "      <td>4.550410e-17</td>\n",
              "      <td>-3.930853e-16</td>\n",
              "      <td>1.485408e-15</td>\n",
              "      <td>-3.178077e-16</td>\n",
              "      <td>-4.500176e-16</td>\n",
              "      <td>-6.315840e-16</td>\n",
              "      <td>6.583931e-16</td>\n",
              "      <td>6.056177e-16</td>\n",
              "      <td>-8.561020e-17</td>\n",
              "      <td>5.221889e-16</td>\n",
              "      <td>-6.985329e-16</td>\n",
              "      <td>-9.096906e-16</td>\n",
              "      <td>1.019230e-15</td>\n",
              "      <td>-2.928379e-16</td>\n",
              "      <td>-3.617173e-16</td>\n",
              "      <td>0.036211</td>\n",
              "      <td>0.051539</td>\n",
              "      <td>0.051224</td>\n",
              "      <td>0.046499</td>\n",
              "      <td>0.034753</td>\n",
              "      <td>0.036582</td>\n",
              "      <td>0.060219</td>\n",
              "      <td>0.107777</td>\n",
              "      <td>...</td>\n",
              "      <td>-0.169206</td>\n",
              "      <td>-0.179565</td>\n",
              "      <td>-0.223538</td>\n",
              "      <td>-0.268590</td>\n",
              "      <td>-0.263133</td>\n",
              "      <td>-0.186047</td>\n",
              "      <td>-0.107259</td>\n",
              "      <td>-0.062288</td>\n",
              "      <td>-0.024911</td>\n",
              "      <td>0.001093</td>\n",
              "      <td>0.0</td>\n",
              "      <td>0.0</td>\n",
              "      <td>0.0</td>\n",
              "      <td>0.0</td>\n",
              "      <td>0.0</td>\n",
              "      <td>0.0</td>\n",
              "      <td>-0.024264</td>\n",
              "      <td>-0.028886</td>\n",
              "      <td>-0.004519</td>\n",
              "      <td>0.043976</td>\n",
              "      <td>0.068855</td>\n",
              "      <td>0.083859</td>\n",
              "      <td>0.082380</td>\n",
              "      <td>0.039959</td>\n",
              "      <td>0.004031</td>\n",
              "      <td>-0.001757</td>\n",
              "      <td>0.011377</td>\n",
              "      <td>0.027086</td>\n",
              "      <td>0.011597</td>\n",
              "      <td>-0.024080</td>\n",
              "      <td>-0.089891</td>\n",
              "      <td>-0.124948</td>\n",
              "      <td>-0.122560</td>\n",
              "      <td>-0.076279</td>\n",
              "      <td>-0.038298</td>\n",
              "      <td>-0.023056</td>\n",
              "      <td>0.0</td>\n",
              "      <td>0.0</td>\n",
              "      <td>0.0</td>\n",
              "      <td>0.0</td>\n",
              "    </tr>\n",
              "    <tr>\n",
              "      <th>4</th>\n",
              "      <td>-1.593236e-17</td>\n",
              "      <td>-8.102574e-16</td>\n",
              "      <td>-6.260758e-16</td>\n",
              "      <td>-1.533883e-15</td>\n",
              "      <td>-9.157858e-16</td>\n",
              "      <td>-1.263237e-15</td>\n",
              "      <td>2.197622e-16</td>\n",
              "      <td>-5.578355e-16</td>\n",
              "      <td>1.049220e-15</td>\n",
              "      <td>5.871176e-16</td>\n",
              "      <td>2.574932e-15</td>\n",
              "      <td>5.237146e-16</td>\n",
              "      <td>-0.073058</td>\n",
              "      <td>-0.123364</td>\n",
              "      <td>-0.115952</td>\n",
              "      <td>-0.115952</td>\n",
              "      <td>-4.207102e-17</td>\n",
              "      <td>3.913957e-16</td>\n",
              "      <td>2.683645e-17</td>\n",
              "      <td>-4.963187e-17</td>\n",
              "      <td>7.580851e-16</td>\n",
              "      <td>-5.202775e-16</td>\n",
              "      <td>8.197266e-16</td>\n",
              "      <td>-7.122136e-16</td>\n",
              "      <td>-1.745395e-17</td>\n",
              "      <td>-3.117401e-16</td>\n",
              "      <td>-8.487676e-16</td>\n",
              "      <td>-3.198909e-16</td>\n",
              "      <td>8.107638e-16</td>\n",
              "      <td>3.962771e-16</td>\n",
              "      <td>-8.273869e-16</td>\n",
              "      <td>2.832787e-16</td>\n",
              "      <td>-0.073252</td>\n",
              "      <td>-0.194242</td>\n",
              "      <td>-0.321018</td>\n",
              "      <td>-0.309389</td>\n",
              "      <td>-0.190555</td>\n",
              "      <td>-0.095915</td>\n",
              "      <td>-0.011012</td>\n",
              "      <td>-0.018225</td>\n",
              "      <td>...</td>\n",
              "      <td>1.877856</td>\n",
              "      <td>1.752660</td>\n",
              "      <td>1.139140</td>\n",
              "      <td>0.446973</td>\n",
              "      <td>-0.049941</td>\n",
              "      <td>-0.225136</td>\n",
              "      <td>-0.131140</td>\n",
              "      <td>-0.039715</td>\n",
              "      <td>-0.007543</td>\n",
              "      <td>-0.005268</td>\n",
              "      <td>0.0</td>\n",
              "      <td>0.0</td>\n",
              "      <td>0.0</td>\n",
              "      <td>0.0</td>\n",
              "      <td>0.0</td>\n",
              "      <td>0.0</td>\n",
              "      <td>-0.052210</td>\n",
              "      <td>-0.071073</td>\n",
              "      <td>-0.094819</td>\n",
              "      <td>-0.097685</td>\n",
              "      <td>-0.148553</td>\n",
              "      <td>-0.259356</td>\n",
              "      <td>-0.461610</td>\n",
              "      <td>-0.591737</td>\n",
              "      <td>-0.592182</td>\n",
              "      <td>-0.360418</td>\n",
              "      <td>0.061615</td>\n",
              "      <td>0.498208</td>\n",
              "      <td>0.755067</td>\n",
              "      <td>0.723768</td>\n",
              "      <td>0.500161</td>\n",
              "      <td>0.199346</td>\n",
              "      <td>-0.017368</td>\n",
              "      <td>-0.081471</td>\n",
              "      <td>-0.065805</td>\n",
              "      <td>-0.034405</td>\n",
              "      <td>0.0</td>\n",
              "      <td>0.0</td>\n",
              "      <td>0.0</td>\n",
              "      <td>0.0</td>\n",
              "    </tr>\n",
              "  </tbody>\n",
              "</table>\n",
              "<p>5 rows × 784 columns</p>\n",
              "</div>"
            ],
            "text/plain": [
              "            0             1             2             3    ...  780  781  782  783\n",
              "0  1.035613e-16  4.400768e-15  2.663886e-15  5.887276e-16  ...  0.0  0.0  0.0  0.0\n",
              "1  5.600734e-19  9.083370e-16 -1.756079e-15  8.410881e-17  ...  0.0  0.0  0.0  0.0\n",
              "2  4.577915e-18 -2.109546e-16  3.537270e-15  1.664417e-15  ...  0.0  0.0  0.0  0.0\n",
              "3 -4.475415e-18  6.187728e-16 -2.072949e-15 -1.274094e-15  ...  0.0  0.0  0.0  0.0\n",
              "4 -1.593236e-17 -8.102574e-16 -6.260758e-16 -1.533883e-15  ...  0.0  0.0  0.0  0.0\n",
              "\n",
              "[5 rows x 784 columns]"
            ]
          },
          "metadata": {
            "tags": []
          },
          "execution_count": 184
        }
      ]
    },
    {
      "cell_type": "code",
      "metadata": {
        "id": "rN17k-Q4dkNQ",
        "colab_type": "code",
        "colab": {
          "base_uri": "https://localhost:8080/",
          "height": 34
        },
        "outputId": "359bd4aa-e10e-448e-8893-8b17df093931"
      },
      "source": [
        "PC_df.shape"
      ],
      "execution_count": 185,
      "outputs": [
        {
          "output_type": "execute_result",
          "data": {
            "text/plain": [
              "(70000, 39)"
            ]
          },
          "metadata": {
            "tags": []
          },
          "execution_count": 185
        }
      ]
    },
    {
      "cell_type": "code",
      "metadata": {
        "id": "jv_20IA51UYf",
        "colab_type": "code",
        "colab": {
          "base_uri": "https://localhost:8080/",
          "height": 52
        },
        "outputId": "3755b8d0-550c-4374-824f-31d1fa3da5bb"
      },
      "source": [
        "digit_test_Inverse=principalComponents_Inverse[1]\n",
        "print(digit_test_Inverse.shape) ##Original columns are retrivied and its approximate values are predicted from the 50% PCA generated columns(39 columns)\n",
        "digit_test_image_Inverse= digit_test_Inverse.reshape(28,28) ## Reshaping it to 28*28 matrix so as to get a pictorial view of the data.\n",
        "type(digit_test_image_Inverse)"
      ],
      "execution_count": 186,
      "outputs": [
        {
          "output_type": "stream",
          "text": [
            "(784,)\n"
          ],
          "name": "stdout"
        },
        {
          "output_type": "execute_result",
          "data": {
            "text/plain": [
              "numpy.ndarray"
            ]
          },
          "metadata": {
            "tags": []
          },
          "execution_count": 186
        }
      ]
    },
    {
      "cell_type": "code",
      "metadata": {
        "id": "W6qnMfy_0jol",
        "colab_type": "code",
        "colab": {
          "base_uri": "https://localhost:8080/",
          "height": 282
        },
        "outputId": "ba9656bc-b36d-4ea4-d37a-f6349dca6d99"
      },
      "source": [
        "\n",
        "\n",
        "plt.imshow(digit_test_image_Inverse, cmap=matplotlib.cm.binary, interpolation='nearest') ## Predicting the data after inverse Transform."
      ],
      "execution_count": 187,
      "outputs": [
        {
          "output_type": "execute_result",
          "data": {
            "text/plain": [
              "<matplotlib.image.AxesImage at 0x7f08acae21d0>"
            ]
          },
          "metadata": {
            "tags": []
          },
          "execution_count": 187
        },
        {
          "output_type": "display_data",
          "data": {
            "image/png": "[encoded data removed]",
            "text/plain": [
              "<Figure size 432x288 with 1 Axes>"
            ]
          },
          "metadata": {
            "tags": [],
            "needs_background": "light"
          }
        }
      ]
    },
    {
      "cell_type": "code",
      "metadata": {
        "id": "fX8-3ORp09_G",
        "colab_type": "code",
        "colab": {
          "base_uri": "https://localhost:8080/",
          "height": 34
        },
        "outputId": "95bfb2b3-e3d4-426c-d2e9-f03091e08a09"
      },
      "source": [
        "y[1]"
      ],
      "execution_count": 188,
      "outputs": [
        {
          "output_type": "execute_result",
          "data": {
            "application/vnd.google.colaboratory.intrinsic+json": {
              "type": "string"
            },
            "text/plain": [
              "'0'"
            ]
          },
          "metadata": {
            "tags": []
          },
          "execution_count": 188
        }
      ]
    }
  ]
}